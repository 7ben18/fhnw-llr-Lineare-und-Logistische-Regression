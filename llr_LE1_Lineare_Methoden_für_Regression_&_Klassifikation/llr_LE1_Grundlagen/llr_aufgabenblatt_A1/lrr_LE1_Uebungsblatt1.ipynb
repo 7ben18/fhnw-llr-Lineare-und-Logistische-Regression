{
 "cells": [
  {
   "cell_type": "code",
   "execution_count": 1,
   "id": "7425d4e5",
   "metadata": {},
   "outputs": [],
   "source": [
    "# llr Uebungsblatt 1\n",
    "## 1)\n",
    "# (a) Familienstand - kategorial\n",
    "# (b) Alter - kontinuierlich\n",
    "# (c) Körpergewicht - kontinueirlich"
   ]
  },
  {
   "cell_type": "code",
   "execution_count": 7,
   "id": "ca4c80a6",
   "metadata": {},
   "outputs": [],
   "source": [
    "## 2)\n",
    "import numpy as np\n",
    "import matplotlib.pyplot as plt\n",
    "from sklearn.linear_model import LinearRegression"
   ]
  },
  {
   "cell_type": "code",
   "execution_count": 14,
   "id": "dd5e77fe",
   "metadata": {},
   "outputs": [],
   "source": [
    "x = np.array([-2, -1, 3, 4, 6]).reshape((-1,1))\n",
    "y = np.array([0, 0.5, 2, 2, 5])\n",
    "\n",
    "model = LinearRegression().fit(x,y)"
   ]
  },
  {
   "cell_type": "code",
   "execution_count": 15,
   "id": "cc423d37",
   "metadata": {},
   "outputs": [
    {
     "name": "stdout",
     "output_type": "stream",
     "text": [
      "0.8584811212814645\n"
     ]
    }
   ],
   "source": [
    "Bestimmtheitsmass = model.score(x,y)\n",
    "print(Bestimmtheitsmass)"
   ]
  },
  {
   "cell_type": "code",
   "execution_count": 16,
   "id": "a9ea5d2e",
   "metadata": {},
   "outputs": [
    {
     "name": "stdout",
     "output_type": "stream",
     "text": [
      "0.834782608695652\n"
     ]
    }
   ],
   "source": [
    "Achsenabschnitt = model.intercept_\n",
    "print(Achsenabschnitt)"
   ]
  },
  {
   "cell_type": "code",
   "execution_count": 20,
   "id": "66eaccad",
   "metadata": {},
   "outputs": [
    {
     "name": "stdout",
     "output_type": "stream",
     "text": [
      "0.532608695652174\n"
     ]
    }
   ],
   "source": [
    "Steigung = model.coef_\n",
    "print(Steigung[0])"
   ]
  },
  {
   "cell_type": "code",
   "execution_count": 23,
   "id": "220574c0",
   "metadata": {},
   "outputs": [
    {
     "data": {
      "image/png": "[encoded data removed]",
      "text/plain": [
       "<Figure size 432x288 with 1 Axes>"
      ]
     },
     "metadata": {
      "needs_background": "light"
     },
     "output_type": "display_data"
    }
   ],
   "source": [
    "plt.scatter(x,y)\n",
    "plt.show()"
   ]
  },
  {
   "cell_type": "code",
   "execution_count": 24,
   "id": "a72a00cf",
   "metadata": {},
   "outputs": [
    {
     "data": {
      "image/png": "[encoded data removed]",
      "text/plain": [
       "<Figure size 432x288 with 1 Axes>"
      ]
     },
     "metadata": {
      "needs_background": "light"
     },
     "output_type": "display_data"
    }
   ],
   "source": [
    "plt.scatter(x,y)\n",
    "plt.plot(x, Steigung * x + Achsenabschnitt)\n",
    "plt.show()"
   ]
  },
  {
   "cell_type": "code",
   "execution_count": null,
   "id": "370e808d",
   "metadata": {},
   "outputs": [],
   "source": []
  },
  {
   "cell_type": "code",
   "execution_count": null,
   "id": "f56eb9f0",
   "metadata": {},
   "outputs": [],
   "source": []
  },
  {
   "cell_type": "code",
   "execution_count": null,
   "id": "29f7cc2e",
   "metadata": {},
   "outputs": [],
   "source": []
  },
  {
   "cell_type": "code",
   "execution_count": null,
   "id": "58546163",
   "metadata": {},
   "outputs": [],
   "source": []
  },
  {
   "cell_type": "code",
   "execution_count": null,
   "id": "b45b00a1",
   "metadata": {},
   "outputs": [],
   "source": []
  }
 ],
 "metadata": {
  "kernelspec": {
   "display_name": "Python 3 (ipykernel)",
   "language": "python",
   "name": "python3"
  },
  "language_info": {
   "codemirror_mode": {
    "name": "ipython",
    "version": 3
   },
   "file_extension": ".py",
   "mimetype": "text/x-python",
   "name": "python",
   "nbconvert_exporter": "python",
   "pygments_lexer": "ipython3",
   "version": "3.9.7"
  }
 },
 "nbformat": 4,
 "nbformat_minor": 5
}
