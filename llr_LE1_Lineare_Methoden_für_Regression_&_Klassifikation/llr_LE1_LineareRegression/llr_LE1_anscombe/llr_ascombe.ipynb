{
 "cells": [
  {
   "cell_type": "code",
   "execution_count": 1,
   "id": "5a57e7bd",
   "metadata": {},
   "outputs": [],
   "source": [
    "# Module importieren\n",
    "import pandas as pd\n",
    "import numpy as np\n",
    "import matplotlib.pyplot as plt\n",
    "\n",
    "from sklearn.linear_model import LinearRegression, LogisticRegression"
   ]
  },
  {
   "cell_type": "code",
   "execution_count": 2,
   "id": "1569c5a5",
   "metadata": {},
   "outputs": [
    {
     "data": {
      "text/html": [
       "<div>\n",
       "<style scoped>\n",
       "    .dataframe tbody tr th:only-of-type {\n",
       "        vertical-align: middle;\n",
       "    }\n",
       "\n",
       "    .dataframe tbody tr th {\n",
       "        vertical-align: top;\n",
       "    }\n",
       "\n",
       "    .dataframe thead th {\n",
       "        text-align: right;\n",
       "    }\n",
       "</style>\n",
       "<table border=\"1\" class=\"dataframe\">\n",
       "  <thead>\n",
       "    <tr style=\"text-align: right;\">\n",
       "      <th></th>\n",
       "      <th>Y1</th>\n",
       "      <th>X1</th>\n",
       "      <th>Y2</th>\n",
       "      <th>X2</th>\n",
       "      <th>Y3</th>\n",
       "      <th>X3</th>\n",
       "      <th>Y4</th>\n",
       "      <th>X4</th>\n",
       "    </tr>\n",
       "  </thead>\n",
       "  <tbody>\n",
       "    <tr>\n",
       "      <th>0</th>\n",
       "      <td>8.04</td>\n",
       "      <td>10</td>\n",
       "      <td>9.14</td>\n",
       "      <td>10</td>\n",
       "      <td>7.46</td>\n",
       "      <td>10</td>\n",
       "      <td>6.58</td>\n",
       "      <td>8</td>\n",
       "    </tr>\n",
       "    <tr>\n",
       "      <th>1</th>\n",
       "      <td>6.95</td>\n",
       "      <td>8</td>\n",
       "      <td>8.14</td>\n",
       "      <td>8</td>\n",
       "      <td>6.77</td>\n",
       "      <td>8</td>\n",
       "      <td>5.76</td>\n",
       "      <td>8</td>\n",
       "    </tr>\n",
       "    <tr>\n",
       "      <th>2</th>\n",
       "      <td>7.58</td>\n",
       "      <td>13</td>\n",
       "      <td>8.74</td>\n",
       "      <td>13</td>\n",
       "      <td>12.74</td>\n",
       "      <td>13</td>\n",
       "      <td>7.71</td>\n",
       "      <td>8</td>\n",
       "    </tr>\n",
       "    <tr>\n",
       "      <th>3</th>\n",
       "      <td>8.81</td>\n",
       "      <td>9</td>\n",
       "      <td>8.77</td>\n",
       "      <td>9</td>\n",
       "      <td>7.11</td>\n",
       "      <td>9</td>\n",
       "      <td>8.84</td>\n",
       "      <td>8</td>\n",
       "    </tr>\n",
       "    <tr>\n",
       "      <th>4</th>\n",
       "      <td>8.33</td>\n",
       "      <td>11</td>\n",
       "      <td>9.26</td>\n",
       "      <td>11</td>\n",
       "      <td>7.81</td>\n",
       "      <td>11</td>\n",
       "      <td>8.47</td>\n",
       "      <td>8</td>\n",
       "    </tr>\n",
       "    <tr>\n",
       "      <th>5</th>\n",
       "      <td>9.96</td>\n",
       "      <td>14</td>\n",
       "      <td>8.1</td>\n",
       "      <td>14</td>\n",
       "      <td>8.84</td>\n",
       "      <td>14</td>\n",
       "      <td>7.04</td>\n",
       "      <td>8</td>\n",
       "    </tr>\n",
       "    <tr>\n",
       "      <th>6</th>\n",
       "      <td>7.24</td>\n",
       "      <td>6</td>\n",
       "      <td>6.13</td>\n",
       "      <td>6</td>\n",
       "      <td>6.08</td>\n",
       "      <td>6</td>\n",
       "      <td>5.25</td>\n",
       "      <td>8</td>\n",
       "    </tr>\n",
       "    <tr>\n",
       "      <th>7</th>\n",
       "      <td>4.26</td>\n",
       "      <td>4</td>\n",
       "      <td>3.1</td>\n",
       "      <td>4</td>\n",
       "      <td>5.39</td>\n",
       "      <td>4</td>\n",
       "      <td>5.56</td>\n",
       "      <td>8</td>\n",
       "    </tr>\n",
       "    <tr>\n",
       "      <th>8</th>\n",
       "      <td>10.84</td>\n",
       "      <td>12</td>\n",
       "      <td>9.13</td>\n",
       "      <td>12</td>\n",
       "      <td>8.15</td>\n",
       "      <td>12</td>\n",
       "      <td>7.91</td>\n",
       "      <td>8</td>\n",
       "    </tr>\n",
       "    <tr>\n",
       "      <th>9</th>\n",
       "      <td>4.82</td>\n",
       "      <td>7</td>\n",
       "      <td>7.26</td>\n",
       "      <td>7</td>\n",
       "      <td>6.42</td>\n",
       "      <td>7</td>\n",
       "      <td>6.89</td>\n",
       "      <td>8</td>\n",
       "    </tr>\n",
       "  </tbody>\n",
       "</table>\n",
       "</div>"
      ],
      "text/plain": [
       "0     Y1  X1    Y2  X2     Y3  X3    Y4 X4\n",
       "0   8.04  10  9.14  10   7.46  10  6.58  8\n",
       "1   6.95   8  8.14   8   6.77   8  5.76  8\n",
       "2   7.58  13  8.74  13  12.74  13  7.71  8\n",
       "3   8.81   9  8.77   9   7.11   9  8.84  8\n",
       "4   8.33  11  9.26  11   7.81  11  8.47  8\n",
       "5   9.96  14   8.1  14   8.84  14  7.04  8\n",
       "6   7.24   6  6.13   6   6.08   6  5.25  8\n",
       "7   4.26   4   3.1   4   5.39   4  5.56  8\n",
       "8  10.84  12  9.13  12   8.15  12  7.91  8\n",
       "9   4.82   7  7.26   7   6.42   7  6.89  8"
      ]
     },
     "execution_count": 2,
     "metadata": {},
     "output_type": "execute_result"
    }
   ],
   "source": [
    "# df in Pandas einlesen\n",
    "data = pd.read_csv(\"anscombe.dat\", header = None)\n",
    "data = data[0].str.split(\" \", expand=True)\n",
    "header = data.iloc[0]\n",
    "data.columns = header\n",
    "data = data.iloc[1:-1].reset_index(drop = True)\n",
    "data"
   ]
  },
  {
   "cell_type": "code",
   "execution_count": 3,
   "id": "aff066d4",
   "metadata": {},
   "outputs": [],
   "source": [
    "# x und y Werte definieren\n",
    "x = data[\"X1\"].astype(float).values.reshape(-1,1)\n",
    "y = data[\"Y1\"].astype(float).values"
   ]
  },
  {
   "cell_type": "code",
   "execution_count": 4,
   "id": "4fdca994",
   "metadata": {},
   "outputs": [
    {
     "data": {
      "image/png": "[encoded data removed]",
      "text/plain": [
       "<Figure size 432x288 with 1 Axes>"
      ]
     },
     "metadata": {
      "needs_background": "light"
     },
     "output_type": "display_data"
    }
   ],
   "source": [
    "# Einfacher Plot\n",
    "plt.scatter(x, y)\n",
    "plt.show()"
   ]
  },
  {
   "cell_type": "code",
   "execution_count": 5,
   "id": "d35bfc35",
   "metadata": {},
   "outputs": [],
   "source": [
    "# Lineares Modell erstellen\n",
    "model = LinearRegression().fit(x, y)"
   ]
  },
  {
   "cell_type": "code",
   "execution_count": 6,
   "id": "b13e6cb2",
   "metadata": {},
   "outputs": [
    {
     "name": "stdout",
     "output_type": "stream",
     "text": [
      "0.5086363636363638 2.9018181818181823 0.6353390386491954\n"
     ]
    }
   ],
   "source": [
    "# Paramter der Linearen Gleichung\n",
    "steigung = model.coef_\n",
    "achsenabschnitt = model.intercept_\n",
    "R2 = model.score(x, y)\n",
    "print(steigung[0], achsenabschnitt, R2)"
   ]
  },
  {
   "cell_type": "code",
   "execution_count": 7,
   "id": "05f01285",
   "metadata": {},
   "outputs": [
    {
     "data": {
      "image/png": "[encoded data removed]",
      "text/plain": [
       "<Figure size 432x288 with 1 Axes>"
      ]
     },
     "metadata": {
      "needs_background": "light"
     },
     "output_type": "display_data"
    }
   ],
   "source": [
    "# Plotten mit Linearer Regression\n",
    "plt.scatter(x, y)\n",
    "plt.plot(x, x * steigung + achsenabschnitt, color = \"r\")\n",
    "plt.show()"
   ]
  },
  {
   "cell_type": "code",
   "execution_count": 8,
   "id": "736d6751",
   "metadata": {},
   "outputs": [
    {
     "data": {
      "image/png": "[encoded data removed]",
      "text/plain": [
       "<Figure size 432x288 with 1 Axes>"
      ]
     },
     "metadata": {
      "needs_background": "light"
     },
     "output_type": "display_data"
    }
   ],
   "source": [
    "# Resiuden berechnen und plotten\n",
    "y_predict = model.predict(x)\n",
    "residuen = y - y_predict\n",
    "\n",
    "plt.scatter(x, residuen)\n",
    "plt.plot(x, x*0, c = \"r\")\n",
    "plt.show()"
   ]
  },
  {
   "cell_type": "code",
   "execution_count": 9,
   "id": "69f7518e",
   "metadata": {},
   "outputs": [
    {
     "data": {
      "image/png": "[encoded data removed]",
      "text/plain": [
       "<Figure size 432x288 with 1 Axes>"
      ]
     },
     "metadata": {
      "needs_background": "light"
     },
     "output_type": "display_data"
    }
   ],
   "source": [
    "# Histogramm der Residuen\n",
    "plt.hist(residuen, stacked = True, density = True, bins = 3)\n",
    "plt.show()"
   ]
  }
 ],
 "metadata": {
  "kernelspec": {
   "display_name": "Python 3 (ipykernel)",
   "language": "python",
   "name": "python3"
  },
  "language_info": {
   "codemirror_mode": {
    "name": "ipython",
    "version": 3
   },
   "file_extension": ".py",
   "mimetype": "text/x-python",
   "name": "python",
   "nbconvert_exporter": "python",
   "pygments_lexer": "ipython3",
   "version": "3.9.7"
  }
 },
 "nbformat": 4,
 "nbformat_minor": 5
}
