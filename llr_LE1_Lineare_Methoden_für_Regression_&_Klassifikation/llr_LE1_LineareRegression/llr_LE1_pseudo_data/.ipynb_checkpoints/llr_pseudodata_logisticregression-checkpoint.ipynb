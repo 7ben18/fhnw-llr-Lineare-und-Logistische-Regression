{
 "cells": [
  {
   "cell_type": "code",
   "execution_count": 1,
   "id": "a6237342",
   "metadata": {},
   "outputs": [],
   "source": [
    "# Module importieren\n",
    "import pandas as pd\n",
    "import numpy as np\n",
    "import matplotlib.pyplot as plt\n",
    "\n",
    "from sklearn.linear_model import LogisticRegression, LinearRegression\n",
    "from sklearn.model_selection import train_test_split\n",
    "from sklearn import metrics\n",
    "# Wuas"
   ]
  },
  {
   "cell_type": "code",
   "execution_count": 2,
   "id": "29ff3abd",
   "metadata": {},
   "outputs": [
    {
     "data": {
      "text/html": [
       "<div>\n",
       "<style scoped>\n",
       "    .dataframe tbody tr th:only-of-type {\n",
       "        vertical-align: middle;\n",
       "    }\n",
       "\n",
       "    .dataframe tbody tr th {\n",
       "        vertical-align: top;\n",
       "    }\n",
       "\n",
       "    .dataframe thead th {\n",
       "        text-align: right;\n",
       "    }\n",
       "</style>\n",
       "<table border=\"1\" class=\"dataframe\">\n",
       "  <thead>\n",
       "    <tr style=\"text-align: right;\">\n",
       "      <th></th>\n",
       "      <th>Stunden</th>\n",
       "      <th>Punkte</th>\n",
       "      <th>Bestande</th>\n",
       "    </tr>\n",
       "  </thead>\n",
       "  <tbody>\n",
       "    <tr>\n",
       "      <th>0</th>\n",
       "      <td>2</td>\n",
       "      <td>49</td>\n",
       "      <td>WHACK</td>\n",
       "    </tr>\n",
       "    <tr>\n",
       "      <th>1</th>\n",
       "      <td>7</td>\n",
       "      <td>38</td>\n",
       "      <td>WHACK</td>\n",
       "    </tr>\n",
       "    <tr>\n",
       "      <th>2</th>\n",
       "      <td>0</td>\n",
       "      <td>7</td>\n",
       "      <td>WHACK</td>\n",
       "    </tr>\n",
       "    <tr>\n",
       "      <th>3</th>\n",
       "      <td>12</td>\n",
       "      <td>129</td>\n",
       "      <td>Durchschnitt</td>\n",
       "    </tr>\n",
       "    <tr>\n",
       "      <th>4</th>\n",
       "      <td>1</td>\n",
       "      <td>4</td>\n",
       "      <td>WHACK</td>\n",
       "    </tr>\n",
       "    <tr>\n",
       "      <th>...</th>\n",
       "      <td>...</td>\n",
       "      <td>...</td>\n",
       "      <td>...</td>\n",
       "    </tr>\n",
       "    <tr>\n",
       "      <th>208</th>\n",
       "      <td>2</td>\n",
       "      <td>12</td>\n",
       "      <td>WHACK</td>\n",
       "    </tr>\n",
       "    <tr>\n",
       "      <th>209</th>\n",
       "      <td>5</td>\n",
       "      <td>58</td>\n",
       "      <td>Durchschnitt</td>\n",
       "    </tr>\n",
       "    <tr>\n",
       "      <th>210</th>\n",
       "      <td>7</td>\n",
       "      <td>61</td>\n",
       "      <td>Durchschnitt</td>\n",
       "    </tr>\n",
       "    <tr>\n",
       "      <th>211</th>\n",
       "      <td>8</td>\n",
       "      <td>79</td>\n",
       "      <td>Durchschnitt</td>\n",
       "    </tr>\n",
       "    <tr>\n",
       "      <th>212</th>\n",
       "      <td>3</td>\n",
       "      <td>37</td>\n",
       "      <td>WHACK</td>\n",
       "    </tr>\n",
       "  </tbody>\n",
       "</table>\n",
       "<p>213 rows × 3 columns</p>\n",
       "</div>"
      ],
      "text/plain": [
       "     Stunden  Punkte      Bestande\n",
       "0          2      49         WHACK\n",
       "1          7      38         WHACK\n",
       "2          0       7         WHACK\n",
       "3         12     129  Durchschnitt\n",
       "4          1       4         WHACK\n",
       "..       ...     ...           ...\n",
       "208        2      12         WHACK\n",
       "209        5      58  Durchschnitt\n",
       "210        7      61  Durchschnitt\n",
       "211        8      79  Durchschnitt\n",
       "212        3      37         WHACK\n",
       "\n",
       "[213 rows x 3 columns]"
      ]
     },
     "execution_count": 2,
     "metadata": {},
     "output_type": "execute_result"
    }
   ],
   "source": [
    "# Daten importieren\n",
    "data = pd.read_excel(\"Mappe1_gabo.xlsx\")\n",
    "data"
   ]
  },
  {
   "cell_type": "code",
   "execution_count": 3,
   "id": "6377ad15",
   "metadata": {},
   "outputs": [
    {
     "data": {
      "text/html": [
       "<div>\n",
       "<style scoped>\n",
       "    .dataframe tbody tr th:only-of-type {\n",
       "        vertical-align: middle;\n",
       "    }\n",
       "\n",
       "    .dataframe tbody tr th {\n",
       "        vertical-align: top;\n",
       "    }\n",
       "\n",
       "    .dataframe thead th {\n",
       "        text-align: right;\n",
       "    }\n",
       "</style>\n",
       "<table border=\"1\" class=\"dataframe\">\n",
       "  <thead>\n",
       "    <tr style=\"text-align: right;\">\n",
       "      <th></th>\n",
       "      <th>Stunden</th>\n",
       "      <th>Punkte</th>\n",
       "      <th>Bestande</th>\n",
       "    </tr>\n",
       "  </thead>\n",
       "  <tbody>\n",
       "    <tr>\n",
       "      <th>0</th>\n",
       "      <td>2</td>\n",
       "      <td>49</td>\n",
       "      <td>0</td>\n",
       "    </tr>\n",
       "    <tr>\n",
       "      <th>1</th>\n",
       "      <td>7</td>\n",
       "      <td>38</td>\n",
       "      <td>0</td>\n",
       "    </tr>\n",
       "    <tr>\n",
       "      <th>2</th>\n",
       "      <td>0</td>\n",
       "      <td>7</td>\n",
       "      <td>0</td>\n",
       "    </tr>\n",
       "    <tr>\n",
       "      <th>3</th>\n",
       "      <td>12</td>\n",
       "      <td>129</td>\n",
       "      <td>1</td>\n",
       "    </tr>\n",
       "    <tr>\n",
       "      <th>4</th>\n",
       "      <td>1</td>\n",
       "      <td>4</td>\n",
       "      <td>0</td>\n",
       "    </tr>\n",
       "    <tr>\n",
       "      <th>...</th>\n",
       "      <td>...</td>\n",
       "      <td>...</td>\n",
       "      <td>...</td>\n",
       "    </tr>\n",
       "    <tr>\n",
       "      <th>208</th>\n",
       "      <td>2</td>\n",
       "      <td>12</td>\n",
       "      <td>0</td>\n",
       "    </tr>\n",
       "    <tr>\n",
       "      <th>209</th>\n",
       "      <td>5</td>\n",
       "      <td>58</td>\n",
       "      <td>1</td>\n",
       "    </tr>\n",
       "    <tr>\n",
       "      <th>210</th>\n",
       "      <td>7</td>\n",
       "      <td>61</td>\n",
       "      <td>1</td>\n",
       "    </tr>\n",
       "    <tr>\n",
       "      <th>211</th>\n",
       "      <td>8</td>\n",
       "      <td>79</td>\n",
       "      <td>1</td>\n",
       "    </tr>\n",
       "    <tr>\n",
       "      <th>212</th>\n",
       "      <td>3</td>\n",
       "      <td>37</td>\n",
       "      <td>0</td>\n",
       "    </tr>\n",
       "  </tbody>\n",
       "</table>\n",
       "<p>213 rows × 3 columns</p>\n",
       "</div>"
      ],
      "text/plain": [
       "     Stunden  Punkte  Bestande\n",
       "0          2      49         0\n",
       "1          7      38         0\n",
       "2          0       7         0\n",
       "3         12     129         1\n",
       "4          1       4         0\n",
       "..       ...     ...       ...\n",
       "208        2      12         0\n",
       "209        5      58         1\n",
       "210        7      61         1\n",
       "211        8      79         1\n",
       "212        3      37         0\n",
       "\n",
       "[213 rows x 3 columns]"
      ]
     },
     "execution_count": 3,
     "metadata": {},
     "output_type": "execute_result"
    }
   ],
   "source": [
    "# Datawrangling\n",
    "data[\"Bestande\"] = data[\"Bestande\"].map({\"WHACK\":0,\"Durchschnitt\":1})\n",
    "data"
   ]
  },
  {
   "cell_type": "code",
   "execution_count": 4,
   "id": "13a01b8c",
   "metadata": {},
   "outputs": [],
   "source": [
    "# X und Y Werte definieren\n",
    "x = data[\"Stunden\"].values.reshape(-1,1)\n",
    "y = data[\"Bestande\"].values"
   ]
  },
  {
   "cell_type": "code",
   "execution_count": 5,
   "id": "2075e991",
   "metadata": {},
   "outputs": [
    {
     "data": {
      "image/png": "[encoded data removed]",
      "text/plain": [
       "<Figure size 432x288 with 1 Axes>"
      ]
     },
     "metadata": {
      "needs_background": "light"
     },
     "output_type": "display_data"
    }
   ],
   "source": [
    "# Einfacher Scatter plot\n",
    "plt.scatter(x,y)\n",
    "plt.show()"
   ]
  },
  {
   "cell_type": "code",
   "execution_count": 6,
   "id": "6f3e1859",
   "metadata": {},
   "outputs": [],
   "source": [
    "# Data splitten in train und test\n",
    "train, test = train_test_split(data, test_size=0.3)"
   ]
  },
  {
   "cell_type": "code",
   "execution_count": 7,
   "id": "14a43c64",
   "metadata": {},
   "outputs": [],
   "source": [
    "# x und y fuer Train und Test definieren\n",
    "x_train = train[\"Stunden\"].values.reshape(-1,1)\n",
    "y_train = train[\"Bestande\"].values\n",
    "\n",
    "x_test = test[\"Stunden\"].values.reshape(-1,1)\n",
    "y_test = test[\"Bestande\"].values\n"
   ]
  },
  {
   "cell_type": "code",
   "execution_count": 8,
   "id": "c5432f43",
   "metadata": {},
   "outputs": [],
   "source": [
    "# Logistische Regressions model erstellen\n",
    "model = LogisticRegression().fit(x_train, y_train)"
   ]
  },
  {
   "cell_type": "code",
   "execution_count": 9,
   "id": "64e82bc4",
   "metadata": {},
   "outputs": [
    {
     "name": "stdout",
     "output_type": "stream",
     "text": [
      "[[16 11]\n",
      " [ 5 32]]\n",
      "0.75\n",
      "0.75\n"
     ]
    }
   ],
   "source": [
    "# Confusion Matrix\n",
    "y_predict_test = model.predict(x_test)\n",
    "conf_matrix = metrics.confusion_matrix(y_test, y_predict_test)\n",
    "print(conf_matrix)\n",
    "\n",
    "true_positiv = conf_matrix[0][0]\n",
    "true_negativ = conf_matrix[1][1]\n",
    "\n",
    "false_positiv = conf_matrix[1][0]\n",
    "false_negativ = conf_matrix[0][1]\n",
    "\n",
    "richtig_vorhersage = true_positiv + true_negativ\n",
    "falsche_vorhersage = false_positiv + false_negativ\n",
    "\n",
    "richtig = richtig_vorhersage / (richtig_vorhersage + falsche_vorhersage)\n",
    "print(richtig)\n",
    "\n",
    "richtig2 = model.score(x_test, y_test)\n",
    "print(richtig2)"
   ]
  },
  {
   "cell_type": "code",
   "execution_count": 10,
   "id": "3ccb3cf9",
   "metadata": {},
   "outputs": [
    {
     "data": {
      "image/png": "[encoded data removed]",
      "text/plain": [
       "<Figure size 432x288 with 1 Axes>"
      ]
     },
     "metadata": {
      "needs_background": "light"
     },
     "output_type": "display_data"
    }
   ],
   "source": [
    "# x_values generieren und y_values vorhersagen\n",
    "x_values = np.linspace(0, 12, 100).reshape(-1,1)\n",
    "y_values = model.predict_proba(x_values)[:,1]\n",
    "\n",
    "\n",
    "plt.scatter(x,y)\n",
    "plt.plot(x_values, y_values, color = \"r\")\n",
    "plt.show()"
   ]
  },
  {
   "cell_type": "code",
   "execution_count": 11,
   "id": "d67d5f2f",
   "metadata": {},
   "outputs": [],
   "source": [
    "# hoffe es chunt ned!"
   ]
  },
  {
   "cell_type": "code",
   "execution_count": 12,
   "id": "aabfcc2a",
   "metadata": {},
   "outputs": [
    {
     "data": {
      "image/png": "[encoded data removed]",
      "text/plain": [
       "<Figure size 432x288 with 1 Axes>"
      ]
     },
     "metadata": {
      "needs_background": "light"
     },
     "output_type": "display_data"
    }
   ],
   "source": [
    "# Eifach us spass, no residue plotte\n",
    "y_predict = model.predict_proba(x)[:,1]\n",
    "residuen = y - y_predict\n",
    "\n",
    "plt.scatter(x,residuen)\n",
    "plt.plot(x, x * 0, c = \"r\")\n",
    "plt.show()"
   ]
  }
 ],
 "metadata": {
  "kernelspec": {
   "display_name": "Python 3 (ipykernel)",
   "language": "python",
   "name": "python3"
  },
  "language_info": {
   "codemirror_mode": {
    "name": "ipython",
    "version": 3
   },
   "file_extension": ".py",
   "mimetype": "text/x-python",
   "name": "python",
   "nbconvert_exporter": "python",
   "pygments_lexer": "ipython3",
   "version": "3.9.7"
  }
 },
 "nbformat": 4,
 "nbformat_minor": 5
}
