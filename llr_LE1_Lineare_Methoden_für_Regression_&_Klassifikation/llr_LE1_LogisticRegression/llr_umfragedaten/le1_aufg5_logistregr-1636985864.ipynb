
<!-- saved from url=(0104)https://spaces.technik.fhnw.ch/storage/uploads/spaces/61/exercises/le1_aufg5_logistregr-1636985864.ipynb -->
<html><head><meta http-equiv="Content-Type" content="text/html; charset=UTF-8"></head><body>{
 "cells": [
  {
   "cell_type": "markdown",
   "metadata": {},
   "source": [
    "logistische Regression"
   ]
  },
  {
   "cell_type": "code",
   "execution_count": 3,
   "metadata": {
    "collapsed": false
   },
   "outputs": [
    {
     "data": {
      "text/html": [
       "<div>\n",
       "<style scoped="">\n",
       "    .dataframe tbody tr th:only-of-type {\n",
       "        vertical-align: middle;\n",
       "    }\n",
       "\n",
       "    .dataframe tbody tr th {\n",
       "        vertical-align: top;\n",
       "    }\n",
       "\n",
       "    .dataframe thead th {\n",
       "        text-align: right;\n",
       "    }\n",
       "</style>\n",
       "\n",
       "  \n",
       "    \n",
       "      \n",
       "      \n",
       "      \n",
       "      \n",
       "      \n",
       "      \n",
       "      \n",
       "      \n",
       "      \n",
       "      \n",
       "      \n",
       "      \n",
       "      \n",
       "      \n",
       "      \n",
       "      \n",
       "      \n",
       "      \n",
       "    \n",
       "  \n",
       "  \n",
       "    \n",
       "      \n",
       "      \n",
       "      \n",
       "      \n",
       "      \n",
       "      \n",
       "      \n",
       "      \n",
       "      \n",
       "      \n",
       "      \n",
       "      \n",
       "      \n",
       "      \n",
       "      \n",
       "      \n",
       "      \n",
       "      \n",
       "    \n",
       "    \n",
       "      \n",
       "      \n",
       "      \n",
       "      \n",
       "      \n",
       "      \n",
       "      \n",
       "      \n",
       "      \n",
       "      \n",
       "      \n",
       "      \n",
       "      \n",
       "      \n",
       "      \n",
       "      \n",
       "      \n",
       "      \n",
       "    \n",
       "    \n",
       "      \n",
       "      \n",
       "      \n",
       "      \n",
       "      \n",
       "      \n",
       "      \n",
       "      \n",
       "      \n",
       "      \n",
       "      \n",
       "      \n",
       "      \n",
       "      \n",
       "      \n",
       "      \n",
       "      \n",
       "      \n",
       "    \n",
       "    \n",
       "      \n",
       "      \n",
       "      \n",
       "      \n",
       "      \n",
       "      \n",
       "      \n",
       "      \n",
       "      \n",
       "      \n",
       "      \n",
       "      \n",
       "      \n",
       "      \n",
       "      \n",
       "      \n",
       "      \n",
       "      \n",
       "    \n",
       "    \n",
       "      \n",
       "      \n",
       "      \n",
       "      \n",
       "      \n",
       "      \n",
       "      \n",
       "      \n",
       "      \n",
       "      \n",
       "      \n",
       "      \n",
       "      \n",
       "      \n",
       "      \n",
       "      \n",
       "      \n",
       "      \n",
       "    \n",
       "  \n",
       "<table border="\&quot;1\&quot;" class="\&quot;dataframe\&quot;"><thead><tr style="\&quot;text-align:" right;\"=""><th></th><th>ID</th><th>GESCHL</th><th>GEBJAHR</th><th>BERUFSTAETIG</th><th>ARBEITSSTD</th><th>ARZTBES</th><th>RAUCH</th><th>GRO</th><th>GEW</th><th>SCHULABSCHLUSS</th><th>SCHULABSCHLUSS_V</th><th>SCHULABSCHLUSS_M</th><th>HOE_ABSCHLUSS</th><th>HOE_ABSCHLUSS_V</th><th>HOE_ABSCHLUSS_M</th><th>NETTO</th><th>ZUFR</th></tr></thead><tbody><tr><th>0</th><td>1359</td><td>WEIBLICH</td><td>1967.0</td><td>NICHT ERWERBSTAETIG</td><td>NaN</td><td>1.0</td><td>JA</td><td>162.0</td><td>79.0</td><td>MITTLERE REIFE</td><td>MITTLERE REIFE</td><td>HOCHSCHULREIFE</td><td>LEHRE</td><td>GEWERBL.,LANDW.LEHRE</td><td>MEISTER, TECHNIKER</td><td>475.0</td><td>10.0</td></tr><tr><th>1</th><td>2455</td><td>WEIBLICH</td><td>1964.0</td><td>HAUPTBERUFL.HALBTAGS</td><td>30.0</td><td>1.0</td><td>NEIN</td><td>165.0</td><td>59.0</td><td>MITTLERE REIFE</td><td>VOLKS-,HAUPTSCHULE</td><td>VOLKS-,HAUPTSCHULE</td><td>LEHRE</td><td>MEISTER, TECHNIKER</td><td>KAUFMAENNISCHE LEHRE</td><td>780.0</td><td>9.0</td></tr><tr><th>2</th><td>200</td><td>MAENNLICH</td><td>1980.0</td><td>NICHT ERWERBSTAETIG</td><td>NaN</td><td>3.0</td><td>NEIN</td><td>166.0</td><td>86.0</td><td>HOCHSCHULREIFE</td><td>HOCHSCHULREIFE</td><td>HOCHSCHULREIFE</td><td>HOCHSCHULABSCHLUSS</td><td>HOCHSCHULABSCHLUSS</td><td>HOCHSCHULABSCHLUSS</td><td>NaN</td><td>8.0</td></tr><tr><th>3</th><td>1280</td><td>MAENNLICH</td><td>1968.0</td><td>HAUPTBERUFL.GANZTAGS</td><td>50.0</td><td>0.0</td><td>NEIN</td><td>180.0</td><td>95.0</td><td>FACHHOCHSCHULREIFE</td><td>MITTLERE REIFE</td><td>MITTLERE REIFE</td><td>FACHHOCHSCHULABSCHL.</td><td>KAUFMAENNISCHE LEHRE</td><td>KAUFMAENNISCHE LEHRE</td><td>NaN</td><td>8.0</td></tr><tr><th>4</th><td>2384</td><td>WEIBLICH</td><td>1995.0</td><td>NICHT ERWERBSTAETIG</td><td>NaN</td><td>1.0</td><td>NEIN</td><td>161.0</td><td>46.0</td><td>NOCH SCHUELER</td><td>MITTLERE REIFE</td><td>VOLKS-,HAUPTSCHULE</td><td>NOCH SCHUELER</td><td>GEWERBL.,LANDW.LEHRE</td><td>GEWERBL.,LANDW.LEHRE</td><td>NaN</td><td>7.0</td></tr></tbody></table>\n",
       "</div>"
      ],
      "text/plain": [
       "     ID     GESCHL  GEBJAHR          BERUFSTAETIG  ARBEITSSTD  ARZTBES RAUCH  \\\n",
       "0  1359   WEIBLICH   1967.0   NICHT ERWERBSTAETIG         NaN      1.0    JA   \n",
       "1  2455   WEIBLICH   1964.0  HAUPTBERUFL.HALBTAGS        30.0      1.0  NEIN   \n",
       "2   200  MAENNLICH   1980.0   NICHT ERWERBSTAETIG         NaN      3.0  NEIN   \n",
       "3  1280  MAENNLICH   1968.0  HAUPTBERUFL.GANZTAGS        50.0      0.0  NEIN   \n",
       "4  2384   WEIBLICH   1995.0   NICHT ERWERBSTAETIG         NaN      1.0  NEIN   \n",
       "\n",
       "     GRO   GEW      SCHULABSCHLUSS    SCHULABSCHLUSS_V    SCHULABSCHLUSS_M  \\\n",
       "0  162.0  79.0      MITTLERE REIFE      MITTLERE REIFE      HOCHSCHULREIFE   \n",
       "1  165.0  59.0      MITTLERE REIFE  VOLKS-,HAUPTSCHULE  VOLKS-,HAUPTSCHULE   \n",
       "2  166.0  86.0      HOCHSCHULREIFE      HOCHSCHULREIFE      HOCHSCHULREIFE   \n",
       "3  180.0  95.0  FACHHOCHSCHULREIFE      MITTLERE REIFE      MITTLERE REIFE   \n",
       "4  161.0  46.0       NOCH SCHUELER      MITTLERE REIFE  VOLKS-,HAUPTSCHULE   \n",
       "\n",
       "          HOE_ABSCHLUSS       HOE_ABSCHLUSS_V       HOE_ABSCHLUSS_M  NETTO  \\\n",
       "0                 LEHRE  GEWERBL.,LANDW.LEHRE    MEISTER, TECHNIKER  475.0   \n",
       "1                 LEHRE    MEISTER, TECHNIKER  KAUFMAENNISCHE LEHRE  780.0   \n",
       "2    HOCHSCHULABSCHLUSS    HOCHSCHULABSCHLUSS    HOCHSCHULABSCHLUSS    NaN   \n",
       "3  FACHHOCHSCHULABSCHL.  KAUFMAENNISCHE LEHRE  KAUFMAENNISCHE LEHRE    NaN   \n",
       "4         NOCH SCHUELER  GEWERBL.,LANDW.LEHRE  GEWERBL.,LANDW.LEHRE    NaN   \n",
       "\n",
       "   ZUFR  \n",
       "0  10.0  \n",
       "1   9.0  \n",
       "2   8.0  \n",
       "3   8.0  \n",
       "4   7.0  "
      ]
     },
     "execution_count": 3,
     "metadata": {},
     "output_type": "execute_result"
    }
   ],
   "source": [
    "# Load the Pandas libraries, matplotlib and numpy\n",
    "import pandas as pd \n",
    "import matplotlib.pyplot as plt\n",
    "import numpy as np\n",
    "\n",
    "# Read data \n",
    "data = pd.read_csv(\"Umfragedaten_v1_an.csv\") \n",
    "\n",
    "# Preview the first 5 lines of the loaded data \n",
    "data.head()"
   ]
  },
  {
   "cell_type": "code",
   "execution_count": 4,
   "metadata": {
    "collapsed": false
   },
   "outputs": [],
   "source": [
    "#load libraries for regression\n",
    "from sklearn.linear_model import LogisticRegression\n",
    "from sklearn import metrics\n",
    "import seaborn as sn\n"
   ]
  },
  {
   "cell_type": "markdown",
   "metadata": {
    "collapsed": true
   },
   "source": [
    "Data often have NaN or other bad values, which means data need to be cleaned first."
   ]
  },
  {
   "cell_type": "code",
   "execution_count": 5,
   "metadata": {
    "collapsed": false
   },
   "outputs": [
    {
     "data": {
      "text/html": [
       "<div>\n",
       "<style scoped="">\n",
       "    .dataframe tbody tr th:only-of-type {\n",
       "        vertical-align: middle;\n",
       "    }\n",
       "\n",
       "    .dataframe tbody tr th {\n",
       "        vertical-align: top;\n",
       "    }\n",
       "\n",
       "    .dataframe thead th {\n",
       "        text-align: right;\n",
       "    }\n",
       "</style>\n",
       "\n",
       "  \n",
       "    \n",
       "      \n",
       "      \n",
       "      \n",
       "      \n",
       "      \n",
       "      \n",
       "      \n",
       "      \n",
       "      \n",
       "      \n",
       "      \n",
       "      \n",
       "      \n",
       "      \n",
       "      \n",
       "      \n",
       "      \n",
       "      \n",
       "      \n",
       "    \n",
       "  \n",
       "  \n",
       "    \n",
       "      \n",
       "      \n",
       "      \n",
       "      \n",
       "      \n",
       "      \n",
       "      \n",
       "      \n",
       "      \n",
       "      \n",
       "      \n",
       "      \n",
       "      \n",
       "      \n",
       "      \n",
       "      \n",
       "      \n",
       "      \n",
       "      \n",
       "    \n",
       "    \n",
       "      \n",
       "      \n",
       "      \n",
       "      \n",
       "      \n",
       "      \n",
       "      \n",
       "      \n",
       "      \n",
       "      \n",
       "      \n",
       "      \n",
       "      \n",
       "      \n",
       "      \n",
       "      \n",
       "      \n",
       "      \n",
       "      \n",
       "    \n",
       "    \n",
       "      \n",
       "      \n",
       "      \n",
       "      \n",
       "      \n",
       "      \n",
       "      \n",
       "      \n",
       "      \n",
       "      \n",
       "      \n",
       "      \n",
       "      \n",
       "      \n",
       "      \n",
       "      \n",
       "      \n",
       "      \n",
       "      \n",
       "    \n",
       "    \n",
       "      \n",
       "      \n",
       "      \n",
       "      \n",
       "      \n",
       "      \n",
       "      \n",
       "      \n",
       "      \n",
       "      \n",
       "      \n",
       "      \n",
       "      \n",
       "      \n",
       "      \n",
       "      \n",
       "      \n",
       "      \n",
       "      \n",
       "    \n",
       "    \n",
       "      \n",
       "      \n",
       "      \n",
       "      \n",
       "      \n",
       "      \n",
       "      \n",
       "      \n",
       "      \n",
       "      \n",
       "      \n",
       "      \n",
       "      \n",
       "      \n",
       "      \n",
       "      \n",
       "      \n",
       "      \n",
       "      \n",
       "    \n",
       "  \n",
       "<table border="\&quot;1\&quot;" class="\&quot;dataframe\&quot;"><thead><tr style="\&quot;text-align:" right;\"=""><th></th><th>ID</th><th>GESCHL</th><th>GEBJAHR</th><th>BERUFSTAETIG</th><th>ARBEITSSTD</th><th>ARZTBES</th><th>GRO</th><th>GEW</th><th>SCHULABSCHLUSS</th><th>SCHULABSCHLUSS_V</th><th>SCHULABSCHLUSS_M</th><th>HOE_ABSCHLUSS</th><th>HOE_ABSCHLUSS_V</th><th>HOE_ABSCHLUSS_M</th><th>NETTO</th><th>ZUFR</th><th>RAUCH_JA</th><th>RAUCH_NEIN</th></tr></thead><tbody><tr><th>0</th><td>1359</td><td>WEIBLICH</td><td>1967.0</td><td>NICHT ERWERBSTAETIG</td><td>NaN</td><td>1.0</td><td>162.0</td><td>79.0</td><td>MITTLERE REIFE</td><td>MITTLERE REIFE</td><td>HOCHSCHULREIFE</td><td>LEHRE</td><td>GEWERBL.,LANDW.LEHRE</td><td>MEISTER, TECHNIKER</td><td>475.0</td><td>10.0</td><td>1</td><td>0</td></tr><tr><th>1</th><td>2455</td><td>WEIBLICH</td><td>1964.0</td><td>HAUPTBERUFL.HALBTAGS</td><td>30.0</td><td>1.0</td><td>165.0</td><td>59.0</td><td>MITTLERE REIFE</td><td>VOLKS-,HAUPTSCHULE</td><td>VOLKS-,HAUPTSCHULE</td><td>LEHRE</td><td>MEISTER, TECHNIKER</td><td>KAUFMAENNISCHE LEHRE</td><td>780.0</td><td>9.0</td><td>0</td><td>1</td></tr><tr><th>2</th><td>200</td><td>MAENNLICH</td><td>1980.0</td><td>NICHT ERWERBSTAETIG</td><td>NaN</td><td>3.0</td><td>166.0</td><td>86.0</td><td>HOCHSCHULREIFE</td><td>HOCHSCHULREIFE</td><td>HOCHSCHULREIFE</td><td>HOCHSCHULABSCHLUSS</td><td>HOCHSCHULABSCHLUSS</td><td>HOCHSCHULABSCHLUSS</td><td>NaN</td><td>8.0</td><td>0</td><td>1</td></tr><tr><th>3</th><td>1280</td><td>MAENNLICH</td><td>1968.0</td><td>HAUPTBERUFL.GANZTAGS</td><td>50.0</td><td>0.0</td><td>180.0</td><td>95.0</td><td>FACHHOCHSCHULREIFE</td><td>MITTLERE REIFE</td><td>MITTLERE REIFE</td><td>FACHHOCHSCHULABSCHL.</td><td>KAUFMAENNISCHE LEHRE</td><td>KAUFMAENNISCHE LEHRE</td><td>NaN</td><td>8.0</td><td>0</td><td>1</td></tr><tr><th>4</th><td>2384</td><td>WEIBLICH</td><td>1995.0</td><td>NICHT ERWERBSTAETIG</td><td>NaN</td><td>1.0</td><td>161.0</td><td>46.0</td><td>NOCH SCHUELER</td><td>MITTLERE REIFE</td><td>VOLKS-,HAUPTSCHULE</td><td>NOCH SCHUELER</td><td>GEWERBL.,LANDW.LEHRE</td><td>GEWERBL.,LANDW.LEHRE</td><td>NaN</td><td>7.0</td><td>0</td><td>1</td></tr></tbody></table>\n",
       "</div>"
      ],
      "text/plain": [
       "     ID     GESCHL  GEBJAHR          BERUFSTAETIG  ARBEITSSTD  ARZTBES    GRO  \\\n",
       "0  1359   WEIBLICH   1967.0   NICHT ERWERBSTAETIG         NaN      1.0  162.0   \n",
       "1  2455   WEIBLICH   1964.0  HAUPTBERUFL.HALBTAGS        30.0      1.0  165.0   \n",
       "2   200  MAENNLICH   1980.0   NICHT ERWERBSTAETIG         NaN      3.0  166.0   \n",
       "3  1280  MAENNLICH   1968.0  HAUPTBERUFL.GANZTAGS        50.0      0.0  180.0   \n",
       "4  2384   WEIBLICH   1995.0   NICHT ERWERBSTAETIG         NaN      1.0  161.0   \n",
       "\n",
       "    GEW      SCHULABSCHLUSS    SCHULABSCHLUSS_V    SCHULABSCHLUSS_M  \\\n",
       "0  79.0      MITTLERE REIFE      MITTLERE REIFE      HOCHSCHULREIFE   \n",
       "1  59.0      MITTLERE REIFE  VOLKS-,HAUPTSCHULE  VOLKS-,HAUPTSCHULE   \n",
       "2  86.0      HOCHSCHULREIFE      HOCHSCHULREIFE      HOCHSCHULREIFE   \n",
       "3  95.0  FACHHOCHSCHULREIFE      MITTLERE REIFE      MITTLERE REIFE   \n",
       "4  46.0       NOCH SCHUELER      MITTLERE REIFE  VOLKS-,HAUPTSCHULE   \n",
       "\n",
       "          HOE_ABSCHLUSS       HOE_ABSCHLUSS_V       HOE_ABSCHLUSS_M  NETTO  \\\n",
       "0                 LEHRE  GEWERBL.,LANDW.LEHRE    MEISTER, TECHNIKER  475.0   \n",
       "1                 LEHRE    MEISTER, TECHNIKER  KAUFMAENNISCHE LEHRE  780.0   \n",
       "2    HOCHSCHULABSCHLUSS    HOCHSCHULABSCHLUSS    HOCHSCHULABSCHLUSS    NaN   \n",
       "3  FACHHOCHSCHULABSCHL.  KAUFMAENNISCHE LEHRE  KAUFMAENNISCHE LEHRE    NaN   \n",
       "4         NOCH SCHUELER  GEWERBL.,LANDW.LEHRE  GEWERBL.,LANDW.LEHRE    NaN   \n",
       "\n",
       "   ZUFR  RAUCH_JA  RAUCH_NEIN  \n",
       "0  10.0         1           0  \n",
       "1   9.0         0           1  \n",
       "2   8.0         0           1  \n",
       "3   8.0         0           1  \n",
       "4   7.0         0           1  "
      ]
     },
     "execution_count": 5,
     "metadata": {},
     "output_type": "execute_result"
    }
   ],
   "source": [
    "#need to dummy code first\n",
    "x  = data['NETTO'].values.reshape(-1,1)\n",
    "dummies = pd.get_dummies(data, columns=['RAUCH'])\n",
    "y = dummies['RAUCH_JA'].values.reshape(-1,1)\n",
    "dummies.head()"
   ]
  },
  {
   "cell_type": "code",
   "execution_count": 6,
   "metadata": {
    "collapsed": false
   },
   "outputs": [
    {
     "name": "stdout",
     "output_type": "stream",
     "text": [
      "True\n",
      "False\n"
     ]
    }
   ],
   "source": [
    "#not sure why pandas creates 2D arrays, but need 1D otherwise logistic regression would crash\n",
    "x=x[:,0]\n",
    "y=y[:,0]\n",
    "\n",
    "#need to clean data, there seem to be some NaN in x\n",
    "print(np.any(np.isnan(x)))\n",
    "print(np.any(np.isnan(y)))\n"
   ]
  },
  {
   "cell_type": "code",
   "execution_count": 7,
   "metadata": {
    "collapsed": false
   },
   "outputs": [
    {
     "name": "stdout",
     "output_type": "stream",
     "text": [
      "1\n",
      "3471\n",
      "[  475.   780.  4000. ...,  1500.  1300.  1100.]\n"
     ]
    }
   ],
   "source": [
    "#print(np.where(np.isnan(x) == True))\n",
    "print(x.ndim)\n",
    "print(len(x))\n",
    "index = np.where(~np.isnan(x))  #index of good data entries\n",
    "#print(len(index))\n",
    "\n",
    "xnew = x[index]  #only keep good entries\n",
    "ynew = y[index]\n",
    "print(xnew)"
   ]
  },
  {
   "cell_type": "code",
   "execution_count": 8,
   "metadata": {
    "collapsed": false
   },
   "outputs": [
    {
     "data": {
      "image/png": "iVBORw0KGgoAAAANSUhEUgAAAeEAAAFJCAYAAACsBZWNAAAABHNCSVQICAgIfAhkiAAAAAlwSFlz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\nIgwAgBEiDACAESIMAIARIgwAgJH/B0P/cAmdg0IoAAAAAElFTkSuQmCC\n",
      "text/plain": [
       "<matplotlib.figure.figure at="" 0x11849c8d0="">"
      ]
     },
     "metadata": {},
     "output_type": "display_data"
    }
   ],
   "source": [
    "#show a scatter plot\n",
    "plt.plot(xnew,ynew,'o')\n",
    "plt.show()\n",
    "\n",
    "#1=raucher, 0=nichtraucher"
   ]
  },
  {
   "cell_type": "markdown",
   "metadata": {
    "collapsed": false
   },
   "source": [
    "Now we train the model by splitting it into a training set and then the test set is used to validate it."
   ]
  },
  {
   "cell_type": "code",
   "execution_count": 9,
   "metadata": {
    "collapsed": false
   },
   "outputs": [],
   "source": [
    "#train the model\n",
    "\n",
    "from sklearn.model_selection import train_test_split\n",
    "X_train, X_test, y_train, y_test = train_test_split(xnew.reshape(-1,1), ynew, test_size = 0.05, random_state = 0)\n"
   ]
  },
  {
   "cell_type": "code",
   "execution_count": 10,
   "metadata": {
    "collapsed": false
   },
   "outputs": [
    {
     "name": "stdout",
     "output_type": "stream",
     "text": [
      "(array([[  1.63918095e-05]]), array([-0.89435454]))\n"
     ]
    }
   ],
   "source": [
    "# logistic regression using the default parameters)\n",
    "logreg = LogisticRegression()\n",
    "\n",
    "# fit the model with data\n",
    "logreg.fit(X_train,y_train)\n",
    "\n",
    "#\n",
    "y_pred=logreg.predict(X_test)\n",
    "y_pred2 = logreg.predict_proba(X_test)[:,1]\n",
    "\n",
    "print(logreg.coef_, logreg.intercept_)\n",
    "\n"
   ]
  },
  {
   "cell_type": "code",
   "execution_count": 11,
   "metadata": {
    "collapsed": false
   },
   "outputs": [
    {
     "data": {
      "text/plain": [
       "array([[99,  0],\n",
       "       [37,  0]])"
      ]
     },
     "execution_count": 11,
     "metadata": {},
     "output_type": "execute_result"
    }
   ],
   "source": [
    "#confusion matrix\n",
    "from sklearn import metrics\n",
    "cnf_matrix = metrics.confusion_matrix(y_test, y_pred)\n",
    "cnf_matrix\n",
    "\n",
    "#the matrix shows that 37 data points were predicted wrongly, so this fit was not good."
   ]
  },
  {
   "cell_type": "code",
   "execution_count": 12,
   "metadata": {
    "collapsed": false
   },
   "outputs": [
    {
     "data": {
      "image/png": "iVBORw0KGgoAAAANSUhEUgAAAeEAAAFJCAYAAACsBZWNAAAABHNCSVQICAgIfAhkiAAAAAlwSFlz\nAAALEgAACxIB0t1+/AAAGEpJREFUeJzt3X1wVHe9x/HPZjcJSTZtk5LRhk4i0Ka3VLkhZdrhllAV\nIx2xPoBCSodxpuDQR0cK8qQtD40xtL13tMjUtlocsWNB6uVWe9VCq6aEgprpokEetGIUaDFAuLAb\nYJPs7/5R2e0phOVhN182+379xe45Ofvbb8K+OYedjc855wQAAPpdjvUCAADIVkQYAAAjRBgAACNE\nGAAAI0QYAAAjRBgAACOB/n7Ajo5jKT1eSUmhOju7UnrMTMY8EpiFF/PwYh5ezCMh1bMoKyvuc1vG\nnwkHAn7rJVxSmEcCs/BiHl7Mw4t5JPTnLDI+wgAAZCoiDACAESIMAIARIgwAgBEiDACAESIMAIAR\nIgwAgBEiDACAkXP6xKxt27bp8ccf1+rVqz33v/rqq1q5cqUCgYAmT56sKVOmpGWRZ7L1Twf01Ivb\n++3x3svvk3rdmbf5fNKQwUXqOtGjw8dOxu+/uqxIy2bcrOc27FZzaJ+6e51y/T6Nqx6iO+uq+mnl\nl76tfzqgl17/m/Yf7FL54EJNHPMB3TzifdbLAoCUSxrhZ555Ri+++KIKCgo893d3d+sb3/iG1q1b\np4KCAt1xxx366Ec/qsGDB6dtsadYB1jqO8CS5Jy0tyNy2v17OyJ64JvNipzoid/X3ev0SuteSSLE\nOv17u7cjEr9NiAEMNEkvR1dUVGjFihWn3f/mm2+qoqJCl19+ufLy8nTjjTfqd7/7XVoW+V4vvf63\nfnmcdHh3gN+tObS/n1dyaerre/vS6+39ug4A6A9Jz4QnTJigvXv3nnZ/OBxWcXHiQ6mLiooUDoeT\nPmBJSeFFfy7n/kMD70PGu3tjZ/2Q7/ORquNY6Ot7+9ahyAU9r0yeRTowDy/m4cU8EvprFhf8W5SC\nwaAikcQl10gk4olyX1LxmynKryw84+XeTJbrz0nJb5gqKytO+W+q6k99fW+vurLovJ9Xps8i1ZiH\nF/PwYh4JqZ5FWn6L0vDhw9Xe3q4jR44oGo3q97//vUaNGnWhhzsvE8d8oF8eJx2KBp353z3jqsv7\neSWXpr6+txPHVPbvQgCgH5z3mfBPf/pTdXV1aerUqVqwYIFmzJgh55wmT56s972vf944c+oNOrbv\njvap15353Vk5Pql8cFBdJ7rP8u7o/erujSnXn6Nx1eW8KetfTn1vX3q9XW8diuiqK4s0cUwlb8oC\nMCD5nOujJGmS6ssdXELxYh4JzMKLeXgxDy/mkZARl6MBAMDFIcIAABghwgAAGCHCAAAYIcIAABgh\nwgAAGCHCAAAYIcIAABghwgAAGCHCAAAYIcIAABghwgAAGCHCAAAYIcIAABghwgAAGCHCAAAYIcIA\nABghwgAAGCHCAAAYIcIAABghwgAAGCHCAAAYIcIAABghwgAAGCHCAAAYIcIAABghwgAAGCHCAAAY\nIcIAABghwgAAGCHCAAAYIcIAABghwgAAGCHCAAAYIcIAABghwgAAGCHCAAAYIcIAABghwgAAGCHC\nAAAYIcIAABghwgAAGCHCAAAYIcIAABghwgAAGCHCAAAYIcIAABhJGuFYLKaHH35YU6dO1fTp09Xe\n3u7Z/uyzz2rSpEmaPHmyNmzYkLaFAgAw0ASS7bBx40ZFo1GtWbNGoVBITU1NevLJJyVJR48e1Q9+\n8AO9/PLLOn78uD7zmc+orq4u7YsGAGAgSHom3NraqtraWklSdXW12tra4tsKCgpUXl6u48eP6/jx\n4/L5fOlbKQAAA0zSM+FwOKxgMBi/7ff71dPTo0DgnS+96qqrNHHiRPX29mrWrFlJH7CkpFCBgP8i\nlny6srLilB4v0zGPBGbhxTy8mIcX80jor1kkjXAwGFQkEonfjsVi8QA3Nzfrn//8p1555RVJ0owZ\nM1RTU6ORI0f2ebzOzq6LXbNHWVmxOjqOpfSYmYx5JDALL+bhxTy8mEdCqmdxtqAnvRxdU1Oj5uZm\nSVIoFFJVVVV82+WXX65BgwYpLy9P+fn5Ki4u1tGjR1OwZAAABr6kZ8J1dXVqaWlRfX29nHNqbGzU\nqlWrVFFRofHjx2vz5s2aMmWKcnJyVFNTo1tuuaU/1g0AQMbzOedcfz5gqi93cAnFi3kkMAsv5uHF\nPLyYR8IldTkaAACkBxEGAMAIEQYAwAgRBgDACBEGAMAIEQYAwAgRBgDACBEGAMAIEQYAwAgRBgDA\nCBEGAMAIEQYAwAgRBgDACBEGAMAIEQYAwAgRBgDACBEGAMAIEQYAwAgRBgDACBEGAMAIEQYAwAgR\nBgDACBEGAMAIEQYAwAgRBgDACBEGAMAIEQYAwAgRBgDACBEGAMAIEQYAwAgRBgDACBEGAMAIEQYA\nwAgRBgDACBEGAMAIEQYAwAgRBgDACBEGAMAIEQYAwAgRBgDACBEGAMAIEQYAwAgRBgDACBEGAMAI\nEQYAwAgRBgDASCDZDrFYTEuWLNGuXbuUl5enhoYGVVZWxrf/5je/0cqVK+Wc0w033KDFixfL5/Ol\nddEAAAwESc+EN27cqGg0qjVr1mjOnDlqamqKbwuHw3rsscf0ne98Rz/+8Y81ZMgQdXZ2pnXBAAAM\nFEkj3NraqtraWklSdXW12tra4tveeOMNVVVVafny5Zo2bZoGDx6s0tLS9K0WAIABJOnl6HA4rGAw\nGL/t9/vV09OjQCCgzs5Obd26VevXr1dhYaHuvPNOVVdXa+jQoX0er6SkUIGAPzWr/5eysuKUHi/T\nMY8EZuHFPLyYhxfzSOivWSSNcDAYVCQSid+OxWIKBN75siuuuEIf+tCHVFZWJkkaPXq0duzYcdYI\nd3Z2XeyaPcrKitXRcSylx8xkzCOBWXgxDy/m4cU8ElI9i7MFPenl6JqaGjU3N0uSQqGQqqqq4ttu\nuOEG7d69W4cPH1ZPT4+2bduma665JgVLBgBg4Et6JlxXV6eWlhbV19fLOafGxkatWrVKFRUVGj9+\nvObMmaOZM2dKkm677TZPpAEAQN98zjnXnw+Y6ssdXELxYh4JzMKLeXgxDy/mkXBJXY4GAADpQYQB\nADBChAEAMEKEAQAwQoQBADBChAEAMEKEAQAwQoQBADBChAEAMEKEAQAwQoQBADBChAEAMEKEAQAw\nQoQBADBChAEAMEKEAQAwQoQBADBChAEAMEKEAQAwQoQBADBChAEAMEKEAQAwQoQBADBChAEAMEKE\nAQAwQoQBADBChAEAMEKEAQAwQoQBADBChAEAMEKEAQAwQoQBADBChAEAMEKEAQAwQoQBADBChAEA\nMEKEAQAwQoQBADBChAEAMEKEAQAwQoQBADBChAEAMEKEAQAwQoQBADBChAEAMEKEAQAwkjTCsVhM\nDz/8sKZOnarp06ervb39jPvMnDlTP/rRj9KySAAABqKkEd64caOi0ajWrFmjOXPmqKmp6bR9vvnN\nb+ro0aNpWSAAAANV0gi3traqtrZWklRdXa22tjbP9l/84hfy+XzxfQAAwLkJJNshHA4rGAzGb/v9\nfvX09CgQCGj37t362c9+pieeeEIrV648pwcsKSlUIOC/8BWfQVlZcUqPl+mYRwKz8GIeXszDi3kk\n9NcskkY4GAwqEonEb8diMQUC73zZ+vXrdeDAAX3hC1/Qvn37lJubqyFDhmjcuHF9Hq+zsysFy04o\nKytWR8exlB4zkzGPBGbhxTy8mIcX80hI9SzOFvSkEa6pqdGvfvUrfeITn1AoFFJVVVV827x58+J/\nXrFihQYPHnzWAAMAgISkEa6rq1NLS4vq6+vlnFNjY6NWrVqliooKjR8/vj/WCADAgJQ0wjk5OVq2\nbJnnvuHDh5+23wMPPJC6VQEAkAX4sA4AAIwQYQAAjBBhAACMEGEAAIwQYQAAjBBhAACMEGEAAIwQ\nYQAAjBBhAACMEGEAAIwQYQAAjBBhAACMEGEAAIwQYQAAjBBhAACMEGEAAIwQYQAAjASsF5Ctor1R\n/fnIX7Xj0G796fAudRw/pC9Vf1HXlgy3XhoAoJ8Q4TSKdHdp5+E/a8fh3dpxeLeOnPy/s+6/5e1W\nIgwAWYQIX6S3Igf0v3s26ETvSf31SLtO9J44r6/3+/wacWWVri+9TmPLb07TKgEAlyIinIRzTq/+\n4zX95C8/u+BjFAUKdf2VVRpRep3+rfRaXZ5/WQpXCADIVERYUszF9N0/rta2g9sv6ji3lN+sEaVV\nqiq5RoW5BSlaHQBgoMqaCB+NHtPCTY+k5FiFgQLNrrlH5cH3p+R4AIDsNKAivPPwn7Ui9EzKjtfw\nH4tUMuiKlB0PAIB3y/gIP7ftv/U/O1++oK/1yaf/uvUR5fnzUrwqAACSy/gIv7pn81m3j7jyOt33\n7zP6aTUAAJy7jI/wM59err1vH1JBYJD1UgAAOC8Z/7GVOb4cAgwAyEgZH2EAADIVEQYAwAgRBgDA\nCBEGAMAIEQYAwAgRBgDACBEGAMAIEQYAwAgRBgDACBEGAMAIEQYAwAgRBgDACBEGAMAIEQYAwAgR\nBgDACBEGAMAIEQYAwAgRBgDACBEGAMBIINkOsVhMS5Ys0a5du5SXl6eGhgZVVlbGt3//+9/XSy+9\nJEm69dZbdf/996dvtQAADCBJz4Q3btyoaDSqNWvWaM6cOWpqaopv+8c//qEXX3xRzz//vNauXatN\nmzZp586daV0wAAADRdIz4dbWVtXW1kqSqqur1dbWFt/2/ve/X9/97nfl9/slST09PcrPz0/TUgEA\nGFiSRjgcDisYDMZv+/1+9fT0KBAIKDc3V6WlpXLO6dFHH9WIESM0dOjQsx6vpKRQgYD/4lf+LmVl\nxSk9XqZjHgnMwot5eDEPL+aR0F+zSBrhYDCoSCQSvx2LxRQIJL7s5MmTWrRokYqKirR48eKkD9jZ\n2XWBSz2zsrJidXQcS+kxMxnzSGAWXszDi3l4MY+EVM/ibEFP+n/CNTU1am5uliSFQiFVVVXFtznn\ndO+99+q6667TsmXL4pelAQBAcknPhOvq6tTS0qL6+no559TY2KhVq1apoqJCsVhMv/3tbxWNRvXa\na69Jkh588EGNGjUq7QsHACDTJY1wTk6Oli1b5rlv+PDh8T//8Y9/TP2qAADIAnxYBwAARogwAABG\niDAAAEaIMAAARogwAABGiDAAAEaIMAAARogwAABGiDAAAEaIMAAARogwAABGiDAAAEaIMAAARogw\nAABGiDAAAEaIMAAARogwAABGiDAAAEaIMAAARogwAABGiDAAAEaIMAAARogwAABGiDAAAEaIMAAA\nRogwAABGiDAAAEaIMAAARogwAABGiDAAAEaIMAAARogwAABGiDAAAEaIMAAARogwAABGiDAAAEaI\nMAAARogwAABGiDAAAEaIMAAARogwAABGiDAAAEaIMAAARogwAABGiDAAAEaIMAAARgLJdojFYlqy\nZIl27dqlvLw8NTQ0qLKyMr597dq1ev755xUIBHTPPffoIx/5SFoXfMp/rglp+57D/fJYqZDr92lc\n9RC9fbjLs+783ByNHVmuXX/v1P6DXSofXKiJYz6gm0e877yO/9yG3WoO7VN3r4s/1p11Val+GgAw\nYFm8jiaN8MaNGxWNRrVmzRqFQiE1NTXpySeflCR1dHRo9erVeuGFF3Ty5ElNmzZNt9xyi/Ly8tK6\n6EwLsCR19zq90rr3tPtPdsc89+/tiOipF7dL0jmH+LkNuz3HePdjEWIASM7qdTTp5ejW1lbV1tZK\nkqqrq9XW1hbf9oc//EGjRo1SXl6eiouLVVFRoZ07d6ZtsadkWoAvxEuvt5/zvs2hfX3cvz9VywGA\nAc3qdTTpmXA4HFYwGIzf9vv96unpUSAQUDgcVnFxcXxbUVGRwuHwWY9XUlKoQMB/EUvODm8diqis\nrDj5jnrnX2xnvj92zscYqLL9+b8X8/BiHl7ZPA+r19GkEQ4Gg4pEIvHbsVhMgUDgjNsikYgnymfS\n2dl1oWvNKlddWaSOjmPntG+u33fGH6Bcf845H2MgKisrzurn/17Mw4t5eGX7PNL5Onq2iCe9HF1T\nU6Pm5mZJUigUUlVV4tr4yJEj1draqpMnT+rYsWN68803PdvT5YahpWl/DGsTx1Qm3+lfxlUP6eP+\n8lQtBwAGNKvX0aRnwnV1dWppaVF9fb2cc2psbNSqVatUUVGh8ePHa/r06Zo2bZqcc5o9e7by8/PT\numBJmjO1OuPenJXrz9G46vKzvDv6iN46FNFVVxZp4pjK83p39Kk3DTSH9qu7NxZ/LN6UBQDnxup1\n1OecO/OF8DRJ9eWObL+E8l7MI4FZeDEPL+bhxTwSUj2Li7ocDQAA0oMIAwBghAgDAGCECAMAYIQI\nAwBghAgDAGCECAMAYIQIAwBghAgDAGCk3z8xCwAAvIMzYQAAjBBhAACMEGEAAIwQYQAAjBBhAACM\nEGEAAIwErBdwoWKxmJYsWaJdu3YpLy9PDQ0NqqystF5Wym3btk2PP/64Vq9erfb2di1YsEA+n0/X\nXnutFi9erJycHH3729/Wr3/9awUCAS1atEgjR448r30zQXd3txYtWqR9+/YpGo3qnnvu0TXXXJO1\n8+jt7dXXvvY17dmzRz6fT0uXLlV+fn7WzkOSDh06pEmTJunZZ59VIBDI6ll89rOfVTAYlCRdffXV\nmjp1qr7+9a/L7/dr7Nixuv/++/t8DQ2FQue8b6Z46qmn9Oqrr6q7u1t33HGHbrrppkvn58NlqF/+\n8pdu/vz5zjnn3njjDXf33Xcbryj1nn76affJT37Sff7zn3fOOTdr1iy3ZcsW55xzDz30kHv55Zdd\nW1ubmz59uovFYm7fvn1u0qRJ571vJli3bp1raGhwzjnX2dnpbr311qyex4YNG9yCBQucc85t2bLF\n3X333Vk9j2g06u6991738Y9/3P3lL3/J6lmcOHHCffrTn/bc96lPfcq1t7e7WCzmZs6c6bZv397n\na+j57JsJtmzZ4mbNmuV6e3tdOBx2TzzxxCX185GxZ8Ktra2qra2VJFVXV6utrc14RalXUVGhFStW\naN68eZKk7du366abbpIkjRs3Ti0tLRo6dKjGjh0rn8+n8vJy9fb26vDhw+e1b2lpqdlzPFe33Xab\nJkyYIElyzsnv92f1PD72sY/pwx/+sCRp//79uuyyy7R58+asncfy5ctVX1+vp59+WlJ2/13ZuXOn\njh8/rrvuuks9PT164IEHFI1GVVFRIUkaO3asNm/erI6OjtNeQ8Ph8Dnvmyk2bdqkqqoq3XfffQqH\nw5o3b57Wrl17yfx8ZOz/CYfD4fjlFkny+/3q6ekxXFHqTZgwQYFA4t9Jzjn5fD5JUlFRkY4dO3ba\nHE7dfz77ZoKioiIFg0GFw2F96Utf0pe//OWsnockBQIBzZ8/X4888ohuv/32rJ3HT37yE5WWlsYj\nIWX335VBgwZpxowZ+t73vqelS5dq4cKFKigoiG/v6zn6/f4+n3cmv952dnaqra1N3/rWt7R06VLN\nnTv3kvr5yNgz4WAwqEgkEr8di8U8wRqIcnIS/2aKRCK67LLLTptDJBJRcXHxee2bKd566y3dd999\nmjZtmm6//XY99thj8W3ZOA/pnTPAuXPnasqUKTp58mT8/myaxwsvvCCfz6fXX39dO3bs0Pz583X4\n8OH49myahSQNHTpUlZWV8vl8Gjp0qIqLi3XkyJH49lPP8cSJE6e9hp7pefe1b6a83l5xxRUaNmyY\n8vLyNGzYMOXn5+vtt9+Ob7f++cjYM+Gamho1NzdLkkKhkKqqqoxXlH4jRozQ1q1bJUnNzc0aPXq0\nampqtGnTJsViMe3fv1+xWEylpaXntW8mOHjwoO666y595Stf0ec+9zlJ2T2P9evX66mnnpIkFRQU\nyOfz6YMf/GBWzuO5557TD3/4Q61evVrXX3+9li9frnHjxmXlLCRp3bp1ampqkiQdOHBAx48fV2Fh\nof7+97/LOadNmzbFn+N7X0ODwaByc3PPad9MceONN+q1116Tcy4+jzFjxlwyPx8Z+wscTr1bb/fu\n3XLOqbGxUcOHD7deVsrt3btXDz74oNauXas9e/booYceUnd3t4YNG6aGhgb5/X6tWLFCzc3NisVi\nWrhwoUaPHn1e+2aChoYG/fznP9ewYcPi9331q19VQ0NDVs6jq6tLCxcu1MGDB9XT06MvfvGLGj58\neNb+fJwyffp0LVmyRDk5OVk7i2g0qoULF2r//v3y+XyaO3eucnJy1NjYqN7eXo0dO1azZ8/u8zU0\nFAqd876Z4tFHH9XWrVvlnNPs2bN19dVXXzI/HxkbYQAAMl3GXo4GACDTEWEAAIwQYQAAjBBhAACM\nEGEAAIwQYQAAjBBhAACMEGEAAIz8P73QynKYH9ENAAAAAElFTkSuQmCC\n",
      "text/plain": [
       "<matplotlib.figure.figure at="" 0x11b920890="">"
      ]
     },
     "metadata": {},
     "output_type": "display_data"
    }
   ],
   "source": [
    "#plotting\n",
    "#show a scatter plot\n",
    "plt.plot(xnew,ynew,'o')\n",
    "plt.plot(X_test,y_pred2)\n",
    "plt.show()\n",
    "\n",
    "#this also shows a bad fit."
   ]
  },
  {
   "cell_type": "code",
   "execution_count": 13,
   "metadata": {
    "collapsed": false
   },
   "outputs": [
    {
     "data": {
      "image/png": "iVBORw0KGgoAAAANSUhEUgAAAeEAAAFJCAYAAACsBZWNAAAABHNCSVQICAgIfAhkiAAAAAlwSFlz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\nACOEMAAARghhAACMEMIAABj5f+CG5414hb0nAAAAAElFTkSuQmCC\n",
      "text/plain": [
       "<matplotlib.figure.figure at="" 0x11bad7290="">"
      ]
     },
     "metadata": {},
     "output_type": "display_data"
    }
   ],
   "source": [
    "#let's try changing the model by taking the (natural) log of the income\n",
    "plt.plot(np.log(xnew),ynew,'o')\n",
    "plt.show()\n",
    "#one can see that there is actually not a very clear separation between non-smokers (0) and smokers (1). \n",
    "#We fit it anyway."
   ]
  },
  {
   "cell_type": "code",
   "execution_count": 14,
   "metadata": {
    "collapsed": false
   },
   "outputs": [
    {
     "name": "stdout",
     "output_type": "stream",
     "text": [
      "(array([[ 0.1815504]]), array([-2.17652385]))\n"
     ]
    }
   ],
   "source": [
    "xnew2 = np.log(xnew)\n",
    "X_train, X_test, y_train, y_test = train_test_split(xnew2.reshape(-1,1), ynew, test_size = 0.25, random_state = 0)\n",
    "\n",
    "# logistic regression using the default parameters)\n",
    "logreg = LogisticRegression(C=9)\n",
    "\n",
    "# fit the model with data\n",
    "logreg.fit(X_train,y_train)\n",
    "\n",
    "#\n",
    "y_pred=logreg.predict(X_test)\n",
    "y_pred2 = logreg.predict_proba(X_test)[:,1]\n",
    "\n",
    "print(logreg.coef_, logreg.intercept_)\n",
    "\n"
   ]
  },
  {
   "cell_type": "code",
   "execution_count": 15,
   "metadata": {
    "collapsed": false
   },
   "outputs": [
    {
     "data": {
      "image/png": "iVBORw0KGgoAAAANSUhEUgAAAeEAAAFJCAYAAACsBZWNAAAABHNCSVQICAgIfAhkiAAAAAlwSFlz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\n",
      "text/plain": [
       "<matplotlib.figure.figure at="" 0x11bb32190="">"
      ]
     },
     "metadata": {},
     "output_type": "display_data"
    }
   ],
   "source": [
    "#create the model manually to verify the prediction of python works (yes, it's the same)\n",
    "pi = np.exp(-2.17+.18*xnew2) / (1+np.exp(-2.17+.18*xnew2))\n",
    "\n",
    "#plotting\n",
    "#show a scatter plot\n",
    "plt.plot(xnew2,ynew,'o')\n",
    "plt.plot(X_test,y_pred2)\n",
    "plt.plot(xnew2,pi,color='b')\n",
    "plt.show()\n"
   ]
  },
  {
   "cell_type": "code",
   "execution_count": 16,
   "metadata": {
    "collapsed": false
   },
   "outputs": [
    {
     "data": {
      "image/png": "iVBORw0KGgoAAAANSUhEUgAAAeEAAAFJCAYAAACsBZWNAAAABHNCSVQICAgIfAhkiAAAAAlwSFlz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\niEJYRETEIQphERERhyiERUREHPL/AQfpNDqBUc5GAAAAAElFTkSuQmCC\n",
      "text/plain": [
       "<matplotlib.figure.figure at="" 0x11bdac990="">"
      ]
     },
     "metadata": {},
     "output_type": "display_data"
    }
   ],
   "source": [
    "#plot a larger x-axis to see the full model\n",
    "xlarge = np.linspace(-15,45,60).reshape((-1,1))\n",
    "ylarge = logreg.predict_proba(xlarge)[:,1]\n",
    "\n",
    "plt.plot(xnew2,ynew,'o')\n",
    "plt.plot(xlarge,ylarge,color='b')\n",
    "plt.show()\n",
    "\n",
    "#yes, the model is a logit model, but the data are not clearly separated, which means it doesn't fit too well."
   ]
  },
  {
   "cell_type": "code",
   "execution_count": 17,
   "metadata": {
    "collapsed": false
   },
   "outputs": [
    {
     "name": "stdout",
     "output_type": "stream",
     "text": [
      "[ 31.07582063]\n"
     ]
    }
   ],
   "source": [
    "#wahrscheinlichkeit bei 2000 gehalt [%]\n",
    "print(logreg.predict_proba(np.log(2000))[:,1])*100."
   ]
  },
  {
   "cell_type": "code",
   "execution_count": 18,
   "metadata": {
    "collapsed": false
   },
   "outputs": [
    {
     "name": "stdout",
     "output_type": "stream",
     "text": [
      "<bound method="" logisticregression.score="" of="" logisticregression(c="9," class_weight="None," dual="False," fit_intercept="True,\n&quot;," "="" intercept_scaling="1," max_iter="100," multi_class="ovr" ,="" n_jobs="1,\n&quot;," penalty="l2" random_state="None," solver="liblinear" tol="0.0001,\n&quot;," verbose="0," warm_start="False)">\n"
     ]
    }
   ],
   "source": [
    "print(logreg.score)"
   ]
  },
  {
   "cell_type": "code",
   "execution_count": null,
   "metadata": {
    "collapsed": true
   },
   "outputs": [],
   "source": []
  },
  {
   "cell_type": "code",
   "execution_count": null,
   "metadata": {
    "collapsed": true
   },
   "outputs": [],
   "source": []
  },
  {
   "cell_type": "code",
   "execution_count": null,
   "metadata": {
    "collapsed": true
   },
   "outputs": [],
   "source": []
  }
 ],
 "metadata": {
  "kernelspec": {
   "display_name": "Python 2",
   "language": "python",
   "name": "python2"
  },
  "language_info": {
   "codemirror_mode": {
    "name": "ipython",
    "version": 2
   },
   "file_extension": ".py",
   "mimetype": "text/x-python",
   "name": "python",
   "nbconvert_exporter": "python",
   "pygments_lexer": "ipython2",
   "version": "2.7.13"
  }
 },
 "nbformat": 4,
 "nbformat_minor": 2
}
</bound></matplotlib.figure.figure></matplotlib.figure.figure></matplotlib.figure.figure></matplotlib.figure.figure></matplotlib.figure.figure></body></html>