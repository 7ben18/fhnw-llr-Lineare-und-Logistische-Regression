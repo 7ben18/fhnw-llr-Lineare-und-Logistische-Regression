{
 "cells": [
  {
   "cell_type": "code",
   "execution_count": 1,
   "id": "c01c8233",
   "metadata": {},
   "outputs": [],
   "source": [
    "# Module importieren\n",
    "\n",
    "import numpy as np\n",
    "import pandas as pd\n",
    "import matplotlib.pyplot as plt\n",
    "\n",
    "from sklearn import metrics\n",
    "from sklearn.linear_model import LinearRegression, LogisticRegression\n",
    "from sklearn.model_selection import train_test_split\n",
    "\n",
    "from scipy.stats import norm"
   ]
  },
  {
   "cell_type": "code",
   "execution_count": 29,
   "id": "7e216d61",
   "metadata": {},
   "outputs": [
    {
     "data": {
      "text/html": [
       "<div>\n",
       "<style scoped>\n",
       "    .dataframe tbody tr th:only-of-type {\n",
       "        vertical-align: middle;\n",
       "    }\n",
       "\n",
       "    .dataframe tbody tr th {\n",
       "        vertical-align: top;\n",
       "    }\n",
       "\n",
       "    .dataframe thead th {\n",
       "        text-align: right;\n",
       "    }\n",
       "</style>\n",
       "<table border=\"1\" class=\"dataframe\">\n",
       "  <thead>\n",
       "    <tr style=\"text-align: right;\">\n",
       "      <th></th>\n",
       "      <th>ID</th>\n",
       "      <th>GESCHL</th>\n",
       "      <th>GEBJAHR</th>\n",
       "      <th>BERUFSTAETIG</th>\n",
       "      <th>ARBEITSSTD</th>\n",
       "      <th>ARZTBES</th>\n",
       "      <th>RAUCH</th>\n",
       "      <th>GRO</th>\n",
       "      <th>GEW</th>\n",
       "      <th>SCHULABSCHLUSS</th>\n",
       "      <th>SCHULABSCHLUSS_V</th>\n",
       "      <th>SCHULABSCHLUSS_M</th>\n",
       "      <th>HOE_ABSCHLUSS</th>\n",
       "      <th>HOE_ABSCHLUSS_V</th>\n",
       "      <th>HOE_ABSCHLUSS_M</th>\n",
       "      <th>NETTO</th>\n",
       "      <th>ZUFR</th>\n",
       "    </tr>\n",
       "  </thead>\n",
       "  <tbody>\n",
       "    <tr>\n",
       "      <th>0</th>\n",
       "      <td>1359</td>\n",
       "      <td>WEIBLICH</td>\n",
       "      <td>1967.0</td>\n",
       "      <td>NICHT ERWERBSTAETIG</td>\n",
       "      <td>NaN</td>\n",
       "      <td>1.0</td>\n",
       "      <td>JA</td>\n",
       "      <td>162.0</td>\n",
       "      <td>79.0</td>\n",
       "      <td>MITTLERE REIFE</td>\n",
       "      <td>MITTLERE REIFE</td>\n",
       "      <td>HOCHSCHULREIFE</td>\n",
       "      <td>LEHRE</td>\n",
       "      <td>GEWERBL.,LANDW.LEHRE</td>\n",
       "      <td>MEISTER, TECHNIKER</td>\n",
       "      <td>475.0</td>\n",
       "      <td>10.0</td>\n",
       "    </tr>\n",
       "    <tr>\n",
       "      <th>1</th>\n",
       "      <td>2455</td>\n",
       "      <td>WEIBLICH</td>\n",
       "      <td>1964.0</td>\n",
       "      <td>HAUPTBERUFL.HALBTAGS</td>\n",
       "      <td>30.0</td>\n",
       "      <td>1.0</td>\n",
       "      <td>NEIN</td>\n",
       "      <td>165.0</td>\n",
       "      <td>59.0</td>\n",
       "      <td>MITTLERE REIFE</td>\n",
       "      <td>VOLKS-,HAUPTSCHULE</td>\n",
       "      <td>VOLKS-,HAUPTSCHULE</td>\n",
       "      <td>LEHRE</td>\n",
       "      <td>MEISTER, TECHNIKER</td>\n",
       "      <td>KAUFMAENNISCHE LEHRE</td>\n",
       "      <td>780.0</td>\n",
       "      <td>9.0</td>\n",
       "    </tr>\n",
       "    <tr>\n",
       "      <th>2</th>\n",
       "      <td>200</td>\n",
       "      <td>MAENNLICH</td>\n",
       "      <td>1980.0</td>\n",
       "      <td>NICHT ERWERBSTAETIG</td>\n",
       "      <td>NaN</td>\n",
       "      <td>3.0</td>\n",
       "      <td>NEIN</td>\n",
       "      <td>166.0</td>\n",
       "      <td>86.0</td>\n",
       "      <td>HOCHSCHULREIFE</td>\n",
       "      <td>HOCHSCHULREIFE</td>\n",
       "      <td>HOCHSCHULREIFE</td>\n",
       "      <td>HOCHSCHULABSCHLUSS</td>\n",
       "      <td>HOCHSCHULABSCHLUSS</td>\n",
       "      <td>HOCHSCHULABSCHLUSS</td>\n",
       "      <td>NaN</td>\n",
       "      <td>8.0</td>\n",
       "    </tr>\n",
       "    <tr>\n",
       "      <th>3</th>\n",
       "      <td>1280</td>\n",
       "      <td>MAENNLICH</td>\n",
       "      <td>1968.0</td>\n",
       "      <td>HAUPTBERUFL.GANZTAGS</td>\n",
       "      <td>50.0</td>\n",
       "      <td>0.0</td>\n",
       "      <td>NEIN</td>\n",
       "      <td>180.0</td>\n",
       "      <td>95.0</td>\n",
       "      <td>FACHHOCHSCHULREIFE</td>\n",
       "      <td>MITTLERE REIFE</td>\n",
       "      <td>MITTLERE REIFE</td>\n",
       "      <td>FACHHOCHSCHULABSCHL.</td>\n",
       "      <td>KAUFMAENNISCHE LEHRE</td>\n",
       "      <td>KAUFMAENNISCHE LEHRE</td>\n",
       "      <td>NaN</td>\n",
       "      <td>8.0</td>\n",
       "    </tr>\n",
       "    <tr>\n",
       "      <th>4</th>\n",
       "      <td>2384</td>\n",
       "      <td>WEIBLICH</td>\n",
       "      <td>1995.0</td>\n",
       "      <td>NICHT ERWERBSTAETIG</td>\n",
       "      <td>NaN</td>\n",
       "      <td>1.0</td>\n",
       "      <td>NEIN</td>\n",
       "      <td>161.0</td>\n",
       "      <td>46.0</td>\n",
       "      <td>NOCH SCHUELER</td>\n",
       "      <td>MITTLERE REIFE</td>\n",
       "      <td>VOLKS-,HAUPTSCHULE</td>\n",
       "      <td>NOCH SCHUELER</td>\n",
       "      <td>GEWERBL.,LANDW.LEHRE</td>\n",
       "      <td>GEWERBL.,LANDW.LEHRE</td>\n",
       "      <td>NaN</td>\n",
       "      <td>7.0</td>\n",
       "    </tr>\n",
       "  </tbody>\n",
       "</table>\n",
       "</div>"
      ],
      "text/plain": [
       "     ID     GESCHL  GEBJAHR          BERUFSTAETIG  ARBEITSSTD  ARZTBES RAUCH  \\\n",
       "0  1359   WEIBLICH   1967.0   NICHT ERWERBSTAETIG         NaN      1.0    JA   \n",
       "1  2455   WEIBLICH   1964.0  HAUPTBERUFL.HALBTAGS        30.0      1.0  NEIN   \n",
       "2   200  MAENNLICH   1980.0   NICHT ERWERBSTAETIG         NaN      3.0  NEIN   \n",
       "3  1280  MAENNLICH   1968.0  HAUPTBERUFL.GANZTAGS        50.0      0.0  NEIN   \n",
       "4  2384   WEIBLICH   1995.0   NICHT ERWERBSTAETIG         NaN      1.0  NEIN   \n",
       "\n",
       "     GRO   GEW      SCHULABSCHLUSS    SCHULABSCHLUSS_V    SCHULABSCHLUSS_M  \\\n",
       "0  162.0  79.0      MITTLERE REIFE      MITTLERE REIFE      HOCHSCHULREIFE   \n",
       "1  165.0  59.0      MITTLERE REIFE  VOLKS-,HAUPTSCHULE  VOLKS-,HAUPTSCHULE   \n",
       "2  166.0  86.0      HOCHSCHULREIFE      HOCHSCHULREIFE      HOCHSCHULREIFE   \n",
       "3  180.0  95.0  FACHHOCHSCHULREIFE      MITTLERE REIFE      MITTLERE REIFE   \n",
       "4  161.0  46.0       NOCH SCHUELER      MITTLERE REIFE  VOLKS-,HAUPTSCHULE   \n",
       "\n",
       "          HOE_ABSCHLUSS       HOE_ABSCHLUSS_V       HOE_ABSCHLUSS_M  NETTO  \\\n",
       "0                 LEHRE  GEWERBL.,LANDW.LEHRE    MEISTER, TECHNIKER  475.0   \n",
       "1                 LEHRE    MEISTER, TECHNIKER  KAUFMAENNISCHE LEHRE  780.0   \n",
       "2    HOCHSCHULABSCHLUSS    HOCHSCHULABSCHLUSS    HOCHSCHULABSCHLUSS    NaN   \n",
       "3  FACHHOCHSCHULABSCHL.  KAUFMAENNISCHE LEHRE  KAUFMAENNISCHE LEHRE    NaN   \n",
       "4         NOCH SCHUELER  GEWERBL.,LANDW.LEHRE  GEWERBL.,LANDW.LEHRE    NaN   \n",
       "\n",
       "   ZUFR  \n",
       "0  10.0  \n",
       "1   9.0  \n",
       "2   8.0  \n",
       "3   8.0  \n",
       "4   7.0  "
      ]
     },
     "execution_count": 29,
     "metadata": {},
     "output_type": "execute_result"
    }
   ],
   "source": [
    "# Daten einlesen in pd\n",
    "\n",
    "data = pd.read_csv(\"umfragedaten_v1_an-1636985768.csv\")\n",
    "data.head()"
   ]
  },
  {
   "cell_type": "code",
   "execution_count": 30,
   "id": "a7d60392",
   "metadata": {},
   "outputs": [
    {
     "name": "stdout",
     "output_type": "stream",
     "text": [
      "      GESCHL  NETTO\n",
      "0   WEIBLICH  475.0\n",
      "1   WEIBLICH  780.0\n",
      "2  MAENNLICH    NaN\n",
      "3  MAENNLICH    NaN\n",
      "4   WEIBLICH    NaN\n"
     ]
    }
   ],
   "source": [
    "# selektieren der Spalte GESCHL und NETTO\n",
    "\n",
    "geschl_netto = data[[\"GESCHL\", \"NETTO\"]]\n",
    "print(geschl_netto.head())"
   ]
  },
  {
   "cell_type": "code",
   "execution_count": 31,
   "id": "369274f9",
   "metadata": {},
   "outputs": [
    {
     "data": {
      "text/html": [
       "<div>\n",
       "<style scoped>\n",
       "    .dataframe tbody tr th:only-of-type {\n",
       "        vertical-align: middle;\n",
       "    }\n",
       "\n",
       "    .dataframe tbody tr th {\n",
       "        vertical-align: top;\n",
       "    }\n",
       "\n",
       "    .dataframe thead th {\n",
       "        text-align: right;\n",
       "    }\n",
       "</style>\n",
       "<table border=\"1\" class=\"dataframe\">\n",
       "  <thead>\n",
       "    <tr style=\"text-align: right;\">\n",
       "      <th></th>\n",
       "      <th>GESCHL</th>\n",
       "      <th>NETTO</th>\n",
       "    </tr>\n",
       "  </thead>\n",
       "  <tbody>\n",
       "    <tr>\n",
       "      <th>0</th>\n",
       "      <td>0</td>\n",
       "      <td>475.0</td>\n",
       "    </tr>\n",
       "    <tr>\n",
       "      <th>1</th>\n",
       "      <td>0</td>\n",
       "      <td>780.0</td>\n",
       "    </tr>\n",
       "    <tr>\n",
       "      <th>6</th>\n",
       "      <td>1</td>\n",
       "      <td>4000.0</td>\n",
       "    </tr>\n",
       "    <tr>\n",
       "      <th>7</th>\n",
       "      <td>1</td>\n",
       "      <td>400.0</td>\n",
       "    </tr>\n",
       "    <tr>\n",
       "      <th>8</th>\n",
       "      <td>1</td>\n",
       "      <td>1100.0</td>\n",
       "    </tr>\n",
       "    <tr>\n",
       "      <th>...</th>\n",
       "      <td>...</td>\n",
       "      <td>...</td>\n",
       "    </tr>\n",
       "    <tr>\n",
       "      <th>3465</th>\n",
       "      <td>1</td>\n",
       "      <td>2000.0</td>\n",
       "    </tr>\n",
       "    <tr>\n",
       "      <th>3466</th>\n",
       "      <td>0</td>\n",
       "      <td>130.0</td>\n",
       "    </tr>\n",
       "    <tr>\n",
       "      <th>3467</th>\n",
       "      <td>1</td>\n",
       "      <td>1500.0</td>\n",
       "    </tr>\n",
       "    <tr>\n",
       "      <th>3469</th>\n",
       "      <td>0</td>\n",
       "      <td>1300.0</td>\n",
       "    </tr>\n",
       "    <tr>\n",
       "      <th>3470</th>\n",
       "      <td>0</td>\n",
       "      <td>1100.0</td>\n",
       "    </tr>\n",
       "  </tbody>\n",
       "</table>\n",
       "<p>2717 rows × 2 columns</p>\n",
       "</div>"
      ],
      "text/plain": [
       "      GESCHL   NETTO\n",
       "0          0   475.0\n",
       "1          0   780.0\n",
       "6          1  4000.0\n",
       "7          1   400.0\n",
       "8          1  1100.0\n",
       "...      ...     ...\n",
       "3465       1  2000.0\n",
       "3466       0   130.0\n",
       "3467       1  1500.0\n",
       "3469       0  1300.0\n",
       "3470       0  1100.0\n",
       "\n",
       "[2717 rows x 2 columns]"
      ]
     },
     "execution_count": 31,
     "metadata": {},
     "output_type": "execute_result"
    }
   ],
   "source": [
    "# Data Wrangling \n",
    "geschl_netto = geschl_netto.dropna()\n",
    "geschl_netto[\"GESCHL\"] = geschl_netto[\"GESCHL\"].map({\"WEIBLICH\":0, \"MAENNLICH\":1})\n",
    "geschl_netto"
   ]
  },
  {
   "cell_type": "code",
   "execution_count": 40,
   "id": "3e1738ba",
   "metadata": {},
   "outputs": [
    {
     "data": {
      "image/png": "[encoded data removed]",
      "text/plain": [
       "<Figure size 432x288 with 1 Axes>"
      ]
     },
     "metadata": {
      "needs_background": "light"
     },
     "output_type": "display_data"
    },
    {
     "data": {
      "image/png": "[encoded data removed]",
      "text/plain": [
       "<Figure size 432x288 with 1 Axes>"
      ]
     },
     "metadata": {
      "needs_background": "light"
     },
     "output_type": "display_data"
    }
   ],
   "source": [
    "# X und Y Werte definieren\n",
    "x = geschl_netto[\"NETTO\"].values.reshape(-1,1)\n",
    "y = geschl_netto[\"GESCHL\"].values\n",
    "\n",
    "# Scatterplot\n",
    "plt.scatter(x,y)\n",
    "plt.show()\n",
    "\n",
    "x = np.log(x)\n",
    "plt.scatter(x, y, c = \"r\")\n",
    "plt.show()"
   ]
  },
  {
   "cell_type": "code",
   "execution_count": 42,
   "id": "8a56315a",
   "metadata": {},
   "outputs": [],
   "source": [
    "# Train und Test daten erstellen\n",
    "\n",
    "train, test = train_test_split(geschl_netto, test_size = 0.2)\n",
    "\n",
    "x_train, y_train = train[\"NETTO\"].values.reshape(-1,1), train[\"GESCHL\"].values\n",
    "x_test, y_test = test[\"NETTO\"].values.reshape(-1,1), test[\"GESCHL\"].values"
   ]
  },
  {
   "cell_type": "code",
   "execution_count": 43,
   "id": "e2a8a9f6",
   "metadata": {},
   "outputs": [],
   "source": [
    "# Logistisches Modell erstellen\n",
    "\n",
    "geschl_netto_model = LogisticRegression().fit(x_train, y_train)"
   ]
  },
  {
   "cell_type": "code",
   "execution_count": 47,
   "id": "1e76d5a7",
   "metadata": {},
   "outputs": [
    {
     "data": {
      "image/png": "[encoded data removed]",
      "text/plain": [
       "<Figure size 432x288 with 1 Axes>"
      ]
     },
     "metadata": {
      "needs_background": "light"
     },
     "output_type": "display_data"
    }
   ],
   "source": [
    "# plotten\n",
    "x_values = np.linspace(-100000, 100000, 1000).reshape(-1,1)\n",
    "y_values = geschl_netto_model.predict_proba(x_values)[:,1]\n",
    "\n",
    "plt.scatter(x,y)\n",
    "plt.plot(x_values, y_values, c = \"r\")\n",
    "plt.show() "
   ]
  },
  {
   "cell_type": "code",
   "execution_count": null,
   "id": "43930988",
   "metadata": {},
   "outputs": [],
   "source": [
    "# Kack Date"
   ]
  },
  {
   "cell_type": "code",
   "execution_count": null,
   "id": "82b85deb",
   "metadata": {},
   "outputs": [],
   "source": []
  },
  {
   "cell_type": "code",
   "execution_count": null,
   "id": "0ba5932b",
   "metadata": {},
   "outputs": [],
   "source": []
  }
 ],
 "metadata": {
  "kernelspec": {
   "display_name": "Python 3 (ipykernel)",
   "language": "python",
   "name": "python3"
  },
  "language_info": {
   "codemirror_mode": {
    "name": "ipython",
    "version": 3
   },
   "file_extension": ".py",
   "mimetype": "text/x-python",
   "name": "python",
   "nbconvert_exporter": "python",
   "pygments_lexer": "ipython3",
   "version": "3.9.7"
  }
 },
 "nbformat": 4,
 "nbformat_minor": 5
}
