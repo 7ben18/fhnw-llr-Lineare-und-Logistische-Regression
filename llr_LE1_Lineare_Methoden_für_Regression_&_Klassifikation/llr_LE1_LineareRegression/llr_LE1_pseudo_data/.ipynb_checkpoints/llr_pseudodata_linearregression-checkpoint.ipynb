{
 "cells": [
  {
   "cell_type": "code",
   "execution_count": 1,
   "id": "269c6b74",
   "metadata": {},
   "outputs": [],
   "source": [
    "# Module importiere\n",
    "import pandas as pd\n",
    "import numpy as np\n",
    "import matplotlib.pyplot as plt\n",
    "\n",
    "from sklearn.linear_model import LinearRegression"
   ]
  },
  {
   "cell_type": "code",
   "execution_count": 2,
   "id": "3c035b5c",
   "metadata": {},
   "outputs": [
    {
     "data": {
      "text/html": [
       "<div>\n",
       "<style scoped>\n",
       "    .dataframe tbody tr th:only-of-type {\n",
       "        vertical-align: middle;\n",
       "    }\n",
       "\n",
       "    .dataframe tbody tr th {\n",
       "        vertical-align: top;\n",
       "    }\n",
       "\n",
       "    .dataframe thead th {\n",
       "        text-align: right;\n",
       "    }\n",
       "</style>\n",
       "<table border=\"1\" class=\"dataframe\">\n",
       "  <thead>\n",
       "    <tr style=\"text-align: right;\">\n",
       "      <th></th>\n",
       "      <th>Stunden</th>\n",
       "      <th>Punkte</th>\n",
       "      <th>Bestande</th>\n",
       "    </tr>\n",
       "  </thead>\n",
       "  <tbody>\n",
       "    <tr>\n",
       "      <th>0</th>\n",
       "      <td>2</td>\n",
       "      <td>49</td>\n",
       "      <td>WHACK</td>\n",
       "    </tr>\n",
       "    <tr>\n",
       "      <th>1</th>\n",
       "      <td>7</td>\n",
       "      <td>38</td>\n",
       "      <td>WHACK</td>\n",
       "    </tr>\n",
       "    <tr>\n",
       "      <th>2</th>\n",
       "      <td>0</td>\n",
       "      <td>7</td>\n",
       "      <td>WHACK</td>\n",
       "    </tr>\n",
       "    <tr>\n",
       "      <th>3</th>\n",
       "      <td>12</td>\n",
       "      <td>129</td>\n",
       "      <td>Durchschnitt</td>\n",
       "    </tr>\n",
       "    <tr>\n",
       "      <th>4</th>\n",
       "      <td>1</td>\n",
       "      <td>4</td>\n",
       "      <td>WHACK</td>\n",
       "    </tr>\n",
       "    <tr>\n",
       "      <th>...</th>\n",
       "      <td>...</td>\n",
       "      <td>...</td>\n",
       "      <td>...</td>\n",
       "    </tr>\n",
       "    <tr>\n",
       "      <th>208</th>\n",
       "      <td>2</td>\n",
       "      <td>12</td>\n",
       "      <td>WHACK</td>\n",
       "    </tr>\n",
       "    <tr>\n",
       "      <th>209</th>\n",
       "      <td>5</td>\n",
       "      <td>58</td>\n",
       "      <td>Durchschnitt</td>\n",
       "    </tr>\n",
       "    <tr>\n",
       "      <th>210</th>\n",
       "      <td>7</td>\n",
       "      <td>61</td>\n",
       "      <td>Durchschnitt</td>\n",
       "    </tr>\n",
       "    <tr>\n",
       "      <th>211</th>\n",
       "      <td>8</td>\n",
       "      <td>79</td>\n",
       "      <td>Durchschnitt</td>\n",
       "    </tr>\n",
       "    <tr>\n",
       "      <th>212</th>\n",
       "      <td>3</td>\n",
       "      <td>37</td>\n",
       "      <td>WHACK</td>\n",
       "    </tr>\n",
       "  </tbody>\n",
       "</table>\n",
       "<p>213 rows × 3 columns</p>\n",
       "</div>"
      ],
      "text/plain": [
       "     Stunden  Punkte      Bestande\n",
       "0          2      49         WHACK\n",
       "1          7      38         WHACK\n",
       "2          0       7         WHACK\n",
       "3         12     129  Durchschnitt\n",
       "4          1       4         WHACK\n",
       "..       ...     ...           ...\n",
       "208        2      12         WHACK\n",
       "209        5      58  Durchschnitt\n",
       "210        7      61  Durchschnitt\n",
       "211        8      79  Durchschnitt\n",
       "212        3      37         WHACK\n",
       "\n",
       "[213 rows x 3 columns]"
      ]
     },
     "execution_count": 2,
     "metadata": {},
     "output_type": "execute_result"
    }
   ],
   "source": [
    "# Daten in Pandas einlesen\n",
    "data = pd.read_excel(\"Mappe1_gabo.xlsx\", )\n",
    "data"
   ]
  },
  {
   "cell_type": "code",
   "execution_count": 21,
   "id": "1efec51b",
   "metadata": {},
   "outputs": [
    {
     "data": {
      "text/plain": [
       "Stunden     float64\n",
       "Punkte        int64\n",
       "Bestande     object\n",
       "dtype: object"
      ]
     },
     "execution_count": 21,
     "metadata": {},
     "output_type": "execute_result"
    }
   ],
   "source": [
    "data[\"Stunden\"] = data[\"Stunden\"].astype(float)\n",
    "data.dtypes\n",
    "\n"
   ]
  },
  {
   "cell_type": "code",
   "execution_count": 3,
   "id": "5111733d",
   "metadata": {},
   "outputs": [],
   "source": [
    "# X und Y Werte definieren\n",
    "x = data[\"Stunden\"].values.reshape(-1,1)\n",
    "y = data[\"Punkte\"].values"
   ]
  },
  {
   "cell_type": "code",
   "execution_count": 4,
   "id": "c0772551",
   "metadata": {},
   "outputs": [
    {
     "data": {
      "image/png": "[encoded data removed]",
      "text/plain": [
       "<Figure size 432x288 with 1 Axes>"
      ]
     },
     "metadata": {
      "needs_background": "light"
     },
     "output_type": "display_data"
    }
   ],
   "source": [
    "# Einfaches Scatter plot\n",
    "plt.scatter(x,y)\n",
    "plt.show()"
   ]
  },
  {
   "cell_type": "code",
   "execution_count": 5,
   "id": "1fc907f5",
   "metadata": {},
   "outputs": [],
   "source": [
    "# Lineare Regressions Model erstellen\n",
    "model = LinearRegression().fit(x, y)"
   ]
  },
  {
   "cell_type": "code",
   "execution_count": 6,
   "id": "69e74dd6",
   "metadata": {},
   "outputs": [
    {
     "name": "stdout",
     "output_type": "stream",
     "text": [
      "5.509123640263523 22.841466217251405 0.5835324959871742\n",
      "y [Punkte] =  5.509123640263523 x [Stunden] +  22.841466217251405\n"
     ]
    }
   ],
   "source": [
    "# Parameter der Linearere Regression\n",
    "steigung = model.coef_\n",
    "achsenabschnitt = model.intercept_\n",
    "R2 = model.score(x,y)\n",
    "print(steigung[0], achsenabschnitt, R2)\n",
    "print(\"y [Punkte] = \", steigung[0], \"x [Stunden] + \", achsenabschnitt)"
   ]
  },
  {
   "cell_type": "code",
   "execution_count": 7,
   "id": "2b87fcf9",
   "metadata": {},
   "outputs": [
    {
     "data": {
      "image/png": "[encoded data removed]",
      "text/plain": [
       "<Figure size 432x288 with 1 Axes>"
      ]
     },
     "metadata": {
      "needs_background": "light"
     },
     "output_type": "display_data"
    }
   ],
   "source": [
    "# Einfacher Scatterplot mit Linearer Regression\n",
    "plt.scatter(x,y)\n",
    "plt.plot(x, model.predict(x), color = \"r\")\n",
    "plt.show()"
   ]
  },
  {
   "cell_type": "code",
   "execution_count": 8,
   "id": "6f513fac",
   "metadata": {},
   "outputs": [],
   "source": [
    "# Residuen berechnen\n",
    "y_predict = model.predict(x)\n",
    "residuen = y - y_predict"
   ]
  },
  {
   "cell_type": "code",
   "execution_count": 9,
   "id": "b89c5e46",
   "metadata": {},
   "outputs": [
    {
     "data": {
      "image/png": "[encoded data removed]",
      "text/plain": [
       "<Figure size 432x288 with 1 Axes>"
      ]
     },
     "metadata": {
      "needs_background": "light"
     },
     "output_type": "display_data"
    }
   ],
   "source": [
    "# Residuen plotten\n",
    "plt.scatter(x, residuen)\n",
    "plt.plot(x, x * 0, c = \"r\")\n",
    "plt.show()"
   ]
  },
  {
   "cell_type": "code",
   "execution_count": 10,
   "id": "f79b3387",
   "metadata": {},
   "outputs": [
    {
     "data": {
      "image/png": "[encoded data removed]",
      "text/plain": [
       "<Figure size 432x288 with 1 Axes>"
      ]
     },
     "metadata": {
      "needs_background": "light"
     },
     "output_type": "display_data"
    }
   ],
   "source": [
    "# Histogram Residuen\n",
    "plt.hist(residuen, stacked = True, density = False, bins = 5)\n",
    "plt.show()"
   ]
  },
  {
   "cell_type": "code",
   "execution_count": 11,
   "id": "ec854be1",
   "metadata": {},
   "outputs": [
    {
     "name": "stderr",
     "output_type": "stream",
     "text": [
      "C:\\Users\\Si Ben Tran\\AppData\\Local\\Temp\\ipykernel_15992\\2463959547.py:2: RuntimeWarning: divide by zero encountered in log\n",
      "  x_log = np.log(x)\n"
     ]
    }
   ],
   "source": [
    "# Variabel Transformation\n",
    "x_log = np.log(x)\n",
    "y_log = np.log(y)"
   ]
  },
  {
   "cell_type": "code",
   "execution_count": 12,
   "id": "6e0ca32e",
   "metadata": {},
   "outputs": [
    {
     "data": {
      "image/png": "[encoded data removed]",
      "text/plain": [
       "<Figure size 432x288 with 1 Axes>"
      ]
     },
     "metadata": {
      "needs_background": "light"
     },
     "output_type": "display_data"
    }
   ],
   "source": [
    "# Einfacher Scatterplot mit log\n",
    "plt.scatter(x_log, y_log)\n",
    "plt.show()"
   ]
  }
 ],
 "metadata": {
  "kernelspec": {
   "display_name": "Python 3 (ipykernel)",
   "language": "python",
   "name": "python3"
  },
  "language_info": {
   "codemirror_mode": {
    "name": "ipython",
    "version": 3
   },
   "file_extension": ".py",
   "mimetype": "text/x-python",
   "name": "python",
   "nbconvert_exporter": "python",
   "pygments_lexer": "ipython3",
   "version": "3.9.7"
  }
 },
 "nbformat": 4,
 "nbformat_minor": 5
}
