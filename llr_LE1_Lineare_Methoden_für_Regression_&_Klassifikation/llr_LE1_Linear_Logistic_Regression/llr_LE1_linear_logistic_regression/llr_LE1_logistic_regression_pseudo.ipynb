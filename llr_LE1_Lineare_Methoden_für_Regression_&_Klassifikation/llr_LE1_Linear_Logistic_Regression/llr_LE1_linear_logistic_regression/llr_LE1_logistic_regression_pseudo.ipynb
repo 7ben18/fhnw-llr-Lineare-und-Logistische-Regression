{
 "cells": [
  {
   "cell_type": "code",
   "execution_count": 1,
   "id": "59db564e",
   "metadata": {},
   "outputs": [],
   "source": [
    "# Module importieren\n",
    "import numpy as np\n",
    "import pandas as pd\n",
    "import matplotlib.pyplot as plt\n",
    "\n",
    "from sklearn.linear_model import LinearRegression, LogisticRegression\n",
    "from sklearn.model_selection import train_test_split\n",
    "from sklearn import metrics\n",
    "\n",
    "from scipy.stats import norm"
   ]
  },
  {
   "cell_type": "code",
   "execution_count": 2,
   "id": "6567b64e",
   "metadata": {},
   "outputs": [
    {
     "data": {
      "text/html": [
       "<div>\n",
       "<style scoped>\n",
       "    .dataframe tbody tr th:only-of-type {\n",
       "        vertical-align: middle;\n",
       "    }\n",
       "\n",
       "    .dataframe tbody tr th {\n",
       "        vertical-align: top;\n",
       "    }\n",
       "\n",
       "    .dataframe thead th {\n",
       "        text-align: right;\n",
       "    }\n",
       "</style>\n",
       "<table border=\"1\" class=\"dataframe\">\n",
       "  <thead>\n",
       "    <tr style=\"text-align: right;\">\n",
       "      <th></th>\n",
       "      <th>Klasse</th>\n",
       "      <th>Einkommen</th>\n",
       "      <th>Stresslevel</th>\n",
       "    </tr>\n",
       "  </thead>\n",
       "  <tbody>\n",
       "    <tr>\n",
       "      <th>0</th>\n",
       "      <td>1</td>\n",
       "      <td>6731</td>\n",
       "      <td>6</td>\n",
       "    </tr>\n",
       "    <tr>\n",
       "      <th>1</th>\n",
       "      <td>0</td>\n",
       "      <td>3746</td>\n",
       "      <td>2</td>\n",
       "    </tr>\n",
       "    <tr>\n",
       "      <th>2</th>\n",
       "      <td>1</td>\n",
       "      <td>9131</td>\n",
       "      <td>9</td>\n",
       "    </tr>\n",
       "    <tr>\n",
       "      <th>3</th>\n",
       "      <td>1</td>\n",
       "      <td>12617</td>\n",
       "      <td>9</td>\n",
       "    </tr>\n",
       "    <tr>\n",
       "      <th>4</th>\n",
       "      <td>0</td>\n",
       "      <td>1640</td>\n",
       "      <td>1</td>\n",
       "    </tr>\n",
       "    <tr>\n",
       "      <th>...</th>\n",
       "      <td>...</td>\n",
       "      <td>...</td>\n",
       "      <td>...</td>\n",
       "    </tr>\n",
       "    <tr>\n",
       "      <th>2906</th>\n",
       "      <td>0</td>\n",
       "      <td>4235</td>\n",
       "      <td>2</td>\n",
       "    </tr>\n",
       "    <tr>\n",
       "      <th>2907</th>\n",
       "      <td>1</td>\n",
       "      <td>10335</td>\n",
       "      <td>10</td>\n",
       "    </tr>\n",
       "    <tr>\n",
       "      <th>2908</th>\n",
       "      <td>1</td>\n",
       "      <td>9649</td>\n",
       "      <td>7</td>\n",
       "    </tr>\n",
       "    <tr>\n",
       "      <th>2909</th>\n",
       "      <td>0</td>\n",
       "      <td>2554</td>\n",
       "      <td>1</td>\n",
       "    </tr>\n",
       "    <tr>\n",
       "      <th>2910</th>\n",
       "      <td>1</td>\n",
       "      <td>8775</td>\n",
       "      <td>6</td>\n",
       "    </tr>\n",
       "  </tbody>\n",
       "</table>\n",
       "<p>2911 rows × 3 columns</p>\n",
       "</div>"
      ],
      "text/plain": [
       "      Klasse  Einkommen  Stresslevel\n",
       "0          1       6731            6\n",
       "1          0       3746            2\n",
       "2          1       9131            9\n",
       "3          1      12617            9\n",
       "4          0       1640            1\n",
       "...      ...        ...          ...\n",
       "2906       0       4235            2\n",
       "2907       1      10335           10\n",
       "2908       1       9649            7\n",
       "2909       0       2554            1\n",
       "2910       1       8775            6\n",
       "\n",
       "[2911 rows x 3 columns]"
      ]
     },
     "execution_count": 2,
     "metadata": {},
     "output_type": "execute_result"
    }
   ],
   "source": [
    "# df in pd einlesen\n",
    "data = pd.read_excel(\"llr_LE1_linear_logistic_regression_pseudo.xlsx\")\n",
    "data"
   ]
  },
  {
   "cell_type": "code",
   "execution_count": 3,
   "id": "3ae460ff",
   "metadata": {},
   "outputs": [],
   "source": [
    "# x und y Werte definieren\n",
    "x = data[\"Einkommen\"].values.reshape(-1,1)\n",
    "y = data[\"Klasse\"].values"
   ]
  },
  {
   "cell_type": "code",
   "execution_count": 4,
   "id": "ce450d84",
   "metadata": {},
   "outputs": [
    {
     "data": {
      "image/png": "[encoded data removed]",
      "text/plain": [
       "<Figure size 432x288 with 1 Axes>"
      ]
     },
     "metadata": {
      "needs_background": "light"
     },
     "output_type": "display_data"
    }
   ],
   "source": [
    "# Scatterplot\n",
    "plt.scatter(x,y)\n",
    "plt.show()"
   ]
  },
  {
   "cell_type": "code",
   "execution_count": 5,
   "id": "a504aa1c",
   "metadata": {},
   "outputs": [],
   "source": [
    "# Train und Test daten generieren\n",
    "train, test = train_test_split(data, test_size = 0.2)\n",
    "\n",
    "x_train = train[\"Einkommen\"].values.reshape(-1,1)\n",
    "y_train = train[\"Klasse\"].values\n",
    "\n",
    "x_test = test[\"Einkommen\"].values.reshape(-1,1)\n",
    "y_test = test[\"Klasse\"].values"
   ]
  },
  {
   "cell_type": "code",
   "execution_count": 6,
   "id": "6c4c130a",
   "metadata": {},
   "outputs": [],
   "source": [
    "# Logistic Modell erstellen\n",
    "model = LogisticRegression().fit(x_train, y_train)"
   ]
  },
  {
   "cell_type": "code",
   "execution_count": 7,
   "id": "b868867c",
   "metadata": {},
   "outputs": [
    {
     "name": "stdout",
     "output_type": "stream",
     "text": [
      "[[145   1]\n",
      " [  0 437]]\n",
      "0.9982847341337907\n"
     ]
    }
   ],
   "source": [
    "# Confusions Matrix\n",
    "y_test_pre = model.predict(x_test)\n",
    "conf_matrix = metrics.confusion_matrix(y_test, y_test_pre)\n",
    "print(conf_matrix)\n",
    "\n",
    "print(model.score(x_test, y_test))"
   ]
  },
  {
   "cell_type": "code",
   "execution_count": 8,
   "id": "b45c2e6a",
   "metadata": {},
   "outputs": [
    {
     "data": {
      "image/png": "[encoded data removed]",
      "text/plain": [
       "<Figure size 432x288 with 1 Axes>"
      ]
     },
     "metadata": {
      "needs_background": "light"
     },
     "output_type": "display_data"
    }
   ],
   "source": [
    "# x_values zum plotten\n",
    "x_values = np.linspace(min(x), max(x), 1000).reshape(-1,1)\n",
    "y_values = model.predict_proba(x_values)[:,1]\n",
    "\n",
    "alpha, beta = model.coef_, model.intercept_\n",
    "y_values2 = np.exp(beta + alpha * x_values) / (1 + np.exp(beta + alpha * x_values))\n",
    "\n",
    "plt.scatter(x,y)\n",
    "plt.plot(x_values, y_values, c = \"b\")\n",
    "plt.plot(x_values, y_values, c = \"r\")\n",
    "plt.show()\n"
   ]
  },
  {
   "cell_type": "code",
   "execution_count": 9,
   "id": "8f93bba7",
   "metadata": {},
   "outputs": [
    {
     "name": "stdout",
     "output_type": "stream",
     "text": [
      "48.42354798145599 %\n"
     ]
    }
   ],
   "source": [
    "# Die WK dass eine Person mit Einkommen 5k zur Klasse 1 gehoert?\n",
    "result = model.predict_proba([[5000]])[:,1]\n",
    "print(result[0]*100, \"%\")"
   ]
  }
 ],
 "metadata": {
  "kernelspec": {
   "display_name": "Python 3 (ipykernel)",
   "language": "python",
   "name": "python3"
  },
  "language_info": {
   "codemirror_mode": {
    "name": "ipython",
    "version": 3
   },
   "file_extension": ".py",
   "mimetype": "text/x-python",
   "name": "python",
   "nbconvert_exporter": "python",
   "pygments_lexer": "ipython3",
   "version": "3.9.7"
  }
 },
 "nbformat": 4,
 "nbformat_minor": 5
}
