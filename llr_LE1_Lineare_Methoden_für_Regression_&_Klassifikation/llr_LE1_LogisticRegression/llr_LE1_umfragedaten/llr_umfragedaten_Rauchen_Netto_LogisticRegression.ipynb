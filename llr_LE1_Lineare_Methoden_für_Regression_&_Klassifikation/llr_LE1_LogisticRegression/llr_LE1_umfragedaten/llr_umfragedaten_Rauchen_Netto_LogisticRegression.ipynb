{
 "cells": [
  {
   "cell_type": "code",
   "execution_count": 1,
   "id": "2f757905",
   "metadata": {},
   "outputs": [],
   "source": [
    "# Module importieren\n",
    "\n",
    "import numpy as np\n",
    "import pandas as pd\n",
    "import matplotlib.pyplot as plt\n",
    "\n",
    "from sklearn.linear_model import LinearRegression, LogisticRegression\n",
    "from sklearn.model_selection import train_test_split\n",
    "from sklearn import metrics\n",
    "\n",
    "from scipy.stats import norm"
   ]
  },
  {
   "cell_type": "code",
   "execution_count": 2,
   "id": "2bf705e5",
   "metadata": {},
   "outputs": [
    {
     "data": {
      "text/html": [
       "<div>\n",
       "<style scoped>\n",
       "    .dataframe tbody tr th:only-of-type {\n",
       "        vertical-align: middle;\n",
       "    }\n",
       "\n",
       "    .dataframe tbody tr th {\n",
       "        vertical-align: top;\n",
       "    }\n",
       "\n",
       "    .dataframe thead th {\n",
       "        text-align: right;\n",
       "    }\n",
       "</style>\n",
       "<table border=\"1\" class=\"dataframe\">\n",
       "  <thead>\n",
       "    <tr style=\"text-align: right;\">\n",
       "      <th></th>\n",
       "      <th>RAUCH</th>\n",
       "      <th>NETTO</th>\n",
       "    </tr>\n",
       "  </thead>\n",
       "  <tbody>\n",
       "    <tr>\n",
       "      <th>0</th>\n",
       "      <td>1.0</td>\n",
       "      <td>475.0</td>\n",
       "    </tr>\n",
       "    <tr>\n",
       "      <th>1</th>\n",
       "      <td>0.0</td>\n",
       "      <td>780.0</td>\n",
       "    </tr>\n",
       "    <tr>\n",
       "      <th>6</th>\n",
       "      <td>0.0</td>\n",
       "      <td>4000.0</td>\n",
       "    </tr>\n",
       "    <tr>\n",
       "      <th>7</th>\n",
       "      <td>0.0</td>\n",
       "      <td>400.0</td>\n",
       "    </tr>\n",
       "    <tr>\n",
       "      <th>8</th>\n",
       "      <td>0.0</td>\n",
       "      <td>1100.0</td>\n",
       "    </tr>\n",
       "    <tr>\n",
       "      <th>...</th>\n",
       "      <td>...</td>\n",
       "      <td>...</td>\n",
       "    </tr>\n",
       "    <tr>\n",
       "      <th>3465</th>\n",
       "      <td>0.0</td>\n",
       "      <td>2000.0</td>\n",
       "    </tr>\n",
       "    <tr>\n",
       "      <th>3466</th>\n",
       "      <td>1.0</td>\n",
       "      <td>130.0</td>\n",
       "    </tr>\n",
       "    <tr>\n",
       "      <th>3467</th>\n",
       "      <td>0.0</td>\n",
       "      <td>1500.0</td>\n",
       "    </tr>\n",
       "    <tr>\n",
       "      <th>3469</th>\n",
       "      <td>0.0</td>\n",
       "      <td>1300.0</td>\n",
       "    </tr>\n",
       "    <tr>\n",
       "      <th>3470</th>\n",
       "      <td>0.0</td>\n",
       "      <td>1100.0</td>\n",
       "    </tr>\n",
       "  </tbody>\n",
       "</table>\n",
       "<p>2715 rows × 2 columns</p>\n",
       "</div>"
      ],
      "text/plain": [
       "      RAUCH   NETTO\n",
       "0       1.0   475.0\n",
       "1       0.0   780.0\n",
       "6       0.0  4000.0\n",
       "7       0.0   400.0\n",
       "8       0.0  1100.0\n",
       "...     ...     ...\n",
       "3465    0.0  2000.0\n",
       "3466    1.0   130.0\n",
       "3467    0.0  1500.0\n",
       "3469    0.0  1300.0\n",
       "3470    0.0  1100.0\n",
       "\n",
       "[2715 rows x 2 columns]"
      ]
     },
     "execution_count": 2,
     "metadata": {},
     "output_type": "execute_result"
    }
   ],
   "source": [
    "# Daten in Pd einlesen\n",
    "data = pd.read_csv(\"umfragedaten_v1_an-1636985768.csv\")\n",
    "\n",
    "# Data Wrangling - Spaltenauswahl (RAUCH und NETTO)\n",
    "data = data[[\"RAUCH\", \"NETTO\"]]\n",
    "# Ja und Nein Werte zu 1 und 0 aendern\n",
    "data[\"RAUCH\"] = data[\"RAUCH\"].map({\"JA\":1, \"NEIN\":0})\n",
    "# NaN Werte entfernen\n",
    "data = data[data[\"RAUCH\"].notna()]\n",
    "data = data[data[\"NETTO\"].notna()]\n",
    "data"
   ]
  },
  {
   "cell_type": "code",
   "execution_count": 3,
   "id": "5626df4f",
   "metadata": {},
   "outputs": [
    {
     "data": {
      "image/png": "[encoded data removed]",
      "text/plain": [
       "<Figure size 432x288 with 1 Axes>"
      ]
     },
     "metadata": {
      "needs_background": "light"
     },
     "output_type": "display_data"
    },
    {
     "data": {
      "image/png": "[encoded data removed]",
      "text/plain": [
       "<Figure size 432x288 with 1 Axes>"
      ]
     },
     "metadata": {
      "needs_background": "light"
     },
     "output_type": "display_data"
    }
   ],
   "source": [
    "# x und y Achsen definieren\n",
    "x = data[\"NETTO\"].values.reshape(-1,1)\n",
    "y = data[\"RAUCH\"].values\n",
    "\n",
    "# Scatterplot erstellen\n",
    "plt.scatter(x,y)\n",
    "plt.show()\n",
    "\n",
    "# Transofmartion der x Achse\n",
    "x = np.log(x)\n",
    "plt.scatter(x, y)\n",
    "plt.show()"
   ]
  },
  {
   "cell_type": "code",
   "execution_count": 4,
   "id": "ff910879",
   "metadata": {},
   "outputs": [],
   "source": [
    "# Trainings und Testdaten erstellen fuer Logistische Regressions Model\n",
    "train, test = train_test_split(data, test_size = 0.2)\n",
    "\n",
    "# x_train und y_train\n",
    "x_train = train[\"NETTO\"].values.reshape(-1,1)\n",
    "x_train = np.log(x_train)\n",
    "y_train = train[\"RAUCH\"].values\n",
    "\n",
    "# x_test und y_test\n",
    "x_test = test[\"NETTO\"].values.reshape(-1,1)\n",
    "x_test = np.log(x_test)\n",
    "y_test = test[\"RAUCH\"].values"
   ]
  },
  {
   "cell_type": "code",
   "execution_count": 5,
   "id": "2721b0f8",
   "metadata": {},
   "outputs": [],
   "source": [
    "# Logistisches Regressions Model erstellen\n",
    "model = LogisticRegression().fit(x_train, y_train)"
   ]
  },
  {
   "cell_type": "code",
   "execution_count": 6,
   "id": "aa703dab",
   "metadata": {},
   "outputs": [
    {
     "name": "stdout",
     "output_type": "stream",
     "text": [
      "[[371   0]\n",
      " [172   0]]\n",
      "0.6832412523020258\n",
      "0.6832412523020258\n"
     ]
    }
   ],
   "source": [
    "# Confusions Matrix und Auswertung\n",
    "y_test_predict = model.predict(x_test)\n",
    "conf_matrix = metrics.confusion_matrix(y_test, y_test_predict)\n",
    "print(conf_matrix)\n",
    "\n",
    "# Auswertung der Confusion Matrx Variante 1 \n",
    "true_p, true_n = conf_matrix[0][0], conf_matrix[1][1]\n",
    "true_predict = true_p + true_n\n",
    "\n",
    "false_p, false_n = conf_matrix[1][0], conf_matrix[0][1]\n",
    "false_predict = false_p + false_n\n",
    "\n",
    "total_predict = true_predict + false_predict\n",
    "result_prediction1 = true_predict / total_predict\n",
    "print(result_prediction1)\n",
    "\n",
    "# Auswertung der Confusion Matrix Variante 2\n",
    "result_predicition2 = model.score(x_test, y_test)\n",
    "print(result_predicition2)"
   ]
  },
  {
   "cell_type": "code",
   "execution_count": 7,
   "id": "18d3d53c",
   "metadata": {},
   "outputs": [
    {
     "data": {
      "image/png": "[encoded data removed]",
      "text/plain": [
       "<Figure size 432x288 with 1 Axes>"
      ]
     },
     "metadata": {
      "needs_background": "light"
     },
     "output_type": "display_data"
    }
   ],
   "source": [
    "# x_values generieren um model zu plotten\n",
    "x_values = np.linspace(-15, 45, 100).reshape(-1,1)\n",
    "y_values = model.predict_proba(x_values)[:,1]\n",
    "\n",
    "# plotten\n",
    "plt.scatter(x, y)\n",
    "plt.plot(x_values, y_values, c = \"r\")\n",
    "plt.show()"
   ]
  },
  {
   "cell_type": "code",
   "execution_count": 8,
   "id": "b4c604fe",
   "metadata": {},
   "outputs": [
    {
     "data": {
      "image/png": "[encoded data removed]",
      "text/plain": [
       "<Figure size 432x288 with 1 Axes>"
      ]
     },
     "metadata": {
      "needs_background": "light"
     },
     "output_type": "display_data"
    }
   ],
   "source": [
    "# Funktion der Logistischen Regression ueberpruefen\n",
    "alpha, beta = model.coef_, model.intercept_\n",
    "y_values_function = np.exp(beta + alpha * x_values) / (1 + np.exp(beta + alpha * x_values))\n",
    "\n",
    "# plotten\n",
    "plt.scatter(x,y)\n",
    "plt.plot(x_values, y_values_function, c = \"r\")\n",
    "plt.show()"
   ]
  },
  {
   "cell_type": "code",
   "execution_count": 9,
   "id": "c445b4b4",
   "metadata": {},
   "outputs": [
    {
     "name": "stdout",
     "output_type": "stream",
     "text": [
      "34.331382731576134\n"
     ]
    }
   ],
   "source": [
    "# Wahrscheinlichkeit, dass eine Person mit 4000 Gehalt Raucht.\n",
    "gehalt = [[4000]]\n",
    "print(model.predict_proba(np.log(gehalt))[:,1][0]*100)"
   ]
  }
 ],
 "metadata": {
  "kernelspec": {
   "display_name": "Python 3 (ipykernel)",
   "language": "python",
   "name": "python3"
  },
  "language_info": {
   "codemirror_mode": {
    "name": "ipython",
    "version": 3
   },
   "file_extension": ".py",
   "mimetype": "text/x-python",
   "name": "python",
   "nbconvert_exporter": "python",
   "pygments_lexer": "ipython3",
   "version": "3.9.7"
  }
 },
 "nbformat": 4,
 "nbformat_minor": 5
}
