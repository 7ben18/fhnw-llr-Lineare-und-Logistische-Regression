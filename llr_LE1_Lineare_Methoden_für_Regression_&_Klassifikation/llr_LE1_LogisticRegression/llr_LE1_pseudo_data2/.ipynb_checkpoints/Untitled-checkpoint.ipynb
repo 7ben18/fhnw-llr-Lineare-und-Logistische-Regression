{
 "cells": [
  {
   "cell_type": "code",
   "execution_count": 1,
   "id": "65413b83",
   "metadata": {},
   "outputs": [],
   "source": [
    "# Module importieren\n",
    "import pandas as pd\n",
    "import numpy as np\n",
    "import matplotlib.pyplot as plt\n",
    "\n",
    "from sklearn.linear_model import LogisticRegression\n",
    "from sklearn.model_selection import train_test_split\n",
    "from sklearn import metrics"
   ]
  },
  {
   "cell_type": "code",
   "execution_count": 2,
   "id": "c1e71c19",
   "metadata": {},
   "outputs": [
    {
     "name": "stdout",
     "output_type": "stream",
     "text": [
      "   Alter Verheiratet\n",
      "0     30        Nein\n",
      "1     54          Ja\n",
      "2     45        Nein\n",
      "3     33          Ja\n",
      "4     54        Nein\n",
      "    Alter  Verheiratet\n",
      "17     77            1\n",
      "3      33            1\n",
      "16     66            1\n",
      "5      20            1\n",
      "6      32            1\n",
      "7      42            1\n",
      "8      46            1\n",
      "1      54            1\n",
      "15     54            1\n",
      "11     46            1\n",
      "12     45            1\n",
      "0      30            0\n",
      "14     23            0\n",
      "9      47            0\n",
      "13     32            0\n",
      "10     23            0\n",
      "4      54            0\n",
      "2      45            0\n",
      "18     23            0\n"
     ]
    }
   ],
   "source": [
    "# Daten in PandasDf einlesen\n",
    "data = pd.read_excel(\"llr_pseudo_data.xlsx\")\n",
    "print(data.head())\n",
    "\n",
    "# Data Wrangling\n",
    "data[\"Verheiratet\"] = data[\"Verheiratet\"].map({\"Nein\":0,\"Ja\":1})\n",
    "print(data.sort_values(\"Verheiratet\", ascending = False))"
   ]
  },
  {
   "cell_type": "code",
   "execution_count": 3,
   "id": "2983e076",
   "metadata": {},
   "outputs": [],
   "source": [
    "# x und y Werte definieren\n",
    "x = data[\"Alter\"].values.reshape(-1,1)\n",
    "y = data[\"Verheiratet\"].values\n",
    "\n",
    "# trainings und test daten definieren\n",
    "train, test = train_test_split(data, test_size = 0.2)\n",
    "\n",
    "# x_test und y_test Daten formatieren\n",
    "x_test = test[\"Alter\"].values.reshape(-1,1)\n",
    "y_test = test[\"Verheiratet\"].values\n",
    "\n",
    "# x_train und y_train Daten formatieren\n",
    "x_train = train[\"Alter\"].values.reshape(-1,1)\n",
    "y_train = train[\"Verheiratet\"].values"
   ]
  },
  {
   "cell_type": "code",
   "execution_count": 4,
   "id": "2cb08ae9",
   "metadata": {},
   "outputs": [
    {
     "data": {
      "image/png": "[encoded data removed]",
      "text/plain": [
       "<Figure size 432x288 with 1 Axes>"
      ]
     },
     "metadata": {
      "needs_background": "light"
     },
     "output_type": "display_data"
    }
   ],
   "source": [
    "# Einfacher Scatter plot mit x und y\n",
    "plt.scatter(x,y)\n",
    "plt.show()"
   ]
  },
  {
   "cell_type": "code",
   "execution_count": 5,
   "id": "915cd71a",
   "metadata": {},
   "outputs": [],
   "source": [
    "# Logistisches Regressionsmodell erstellen aufgrund Trainingsdaten\n",
    "model = LogisticRegression().fit(x_train, y_train)"
   ]
  },
  {
   "cell_type": "code",
   "execution_count": 6,
   "id": "2b94b4cc",
   "metadata": {},
   "outputs": [
    {
     "name": "stdout",
     "output_type": "stream",
     "text": [
      "[[0 1]\n",
      " [1 2]]\n"
     ]
    }
   ],
   "source": [
    "# Confusion Matrix erstellen\n",
    "y_predict_test = model.predict(x_test)\n",
    "conf_matrix = metrics.confusion_matrix(y_test, y_predict_test)\n",
    "print(conf_matrix)"
   ]
  },
  {
   "cell_type": "code",
   "execution_count": 9,
   "id": "b78a88a9",
   "metadata": {},
   "outputs": [
    {
     "name": "stdout",
     "output_type": "stream",
     "text": [
      "[[9.99598634e-01 4.01366257e-04]\n",
      " [9.99591323e-01 4.08676951e-04]\n",
      " [9.99583879e-01 4.16120749e-04]\n",
      " ...\n",
      " [3.77862676e-05 9.99962214e-01]\n",
      " [3.71100746e-05 9.99962890e-01]\n",
      " [3.64459818e-05 9.99963554e-01]]\n"
     ]
    },
    {
     "data": {
      "image/png": "[encoded data removed]",
      "text/plain": [
       "<Figure size 432x288 with 1 Axes>"
      ]
     },
     "metadata": {
      "needs_background": "light"
     },
     "output_type": "display_data"
    }
   ],
   "source": [
    "# x_values erstellen, fuer plot\n",
    "x_values = np.linspace(-50,150,1000).reshape(-1,1)\n",
    "y_values_prob = model.predict_proba(x_values)\n",
    "print(y_values_prob)\n",
    "\n",
    "# Scatterplot mit trainierter logistischer Regression erstellen\n",
    "plt.scatter(x, y)\n",
    "plt.plot(x_values, model.predict_proba(x_values)[:,1], c = \"r\")\n",
    "plt.show()"
   ]
  }
 ],
 "metadata": {
  "kernelspec": {
   "display_name": "Python 3 (ipykernel)",
   "language": "python",
   "name": "python3"
  },
  "language_info": {
   "codemirror_mode": {
    "name": "ipython",
    "version": 3
   },
   "file_extension": ".py",
   "mimetype": "text/x-python",
   "name": "python",
   "nbconvert_exporter": "python",
   "pygments_lexer": "ipython3",
   "version": "3.9.7"
  }
 },
 "nbformat": 4,
 "nbformat_minor": 5
}
