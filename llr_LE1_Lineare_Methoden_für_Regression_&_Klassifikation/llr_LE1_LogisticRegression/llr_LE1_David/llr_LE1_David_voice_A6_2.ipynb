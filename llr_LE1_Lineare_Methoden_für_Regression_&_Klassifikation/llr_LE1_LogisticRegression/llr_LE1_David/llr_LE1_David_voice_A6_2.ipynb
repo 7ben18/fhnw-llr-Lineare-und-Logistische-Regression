{
 "cells": [
  {
   "cell_type": "code",
   "execution_count": 1,
   "id": "75d3d053",
   "metadata": {},
   "outputs": [],
   "source": [
    "# Module importieren\n",
    "import numpy as np\n",
    "import matplotlib.pyplot as plt\n",
    "import pandas as pd\n",
    "\n",
    "from sklearn.linear_model import LinearRegression, LogisticRegression\n",
    "from sklearn.model_selection import train_test_split\n",
    "from sklearn import metrics\n",
    "\n",
    "from scipy.stats import norm"
   ]
  },
  {
   "cell_type": "code",
   "execution_count": 2,
   "id": "d0a3caea",
   "metadata": {},
   "outputs": [
    {
     "data": {
      "text/html": [
       "<div>\n",
       "<style scoped>\n",
       "    .dataframe tbody tr th:only-of-type {\n",
       "        vertical-align: middle;\n",
       "    }\n",
       "\n",
       "    .dataframe tbody tr th {\n",
       "        vertical-align: top;\n",
       "    }\n",
       "\n",
       "    .dataframe thead th {\n",
       "        text-align: right;\n",
       "    }\n",
       "</style>\n",
       "<table border=\"1\" class=\"dataframe\">\n",
       "  <thead>\n",
       "    <tr style=\"text-align: right;\">\n",
       "      <th></th>\n",
       "      <th>meanfreq</th>\n",
       "      <th>meanfun</th>\n",
       "      <th>median</th>\n",
       "      <th>label</th>\n",
       "    </tr>\n",
       "  </thead>\n",
       "  <tbody>\n",
       "    <tr>\n",
       "      <th>0</th>\n",
       "      <td>0.059781</td>\n",
       "      <td>0.084279</td>\n",
       "      <td>0.032027</td>\n",
       "      <td>0</td>\n",
       "    </tr>\n",
       "    <tr>\n",
       "      <th>1</th>\n",
       "      <td>0.066009</td>\n",
       "      <td>0.107937</td>\n",
       "      <td>0.040229</td>\n",
       "      <td>0</td>\n",
       "    </tr>\n",
       "    <tr>\n",
       "      <th>2</th>\n",
       "      <td>0.077316</td>\n",
       "      <td>0.098706</td>\n",
       "      <td>0.036718</td>\n",
       "      <td>0</td>\n",
       "    </tr>\n",
       "    <tr>\n",
       "      <th>3</th>\n",
       "      <td>0.151228</td>\n",
       "      <td>0.088965</td>\n",
       "      <td>0.158011</td>\n",
       "      <td>0</td>\n",
       "    </tr>\n",
       "    <tr>\n",
       "      <th>4</th>\n",
       "      <td>0.135120</td>\n",
       "      <td>0.106398</td>\n",
       "      <td>0.124656</td>\n",
       "      <td>0</td>\n",
       "    </tr>\n",
       "    <tr>\n",
       "      <th>...</th>\n",
       "      <td>...</td>\n",
       "      <td>...</td>\n",
       "      <td>...</td>\n",
       "      <td>...</td>\n",
       "    </tr>\n",
       "    <tr>\n",
       "      <th>3163</th>\n",
       "      <td>0.131884</td>\n",
       "      <td>0.182790</td>\n",
       "      <td>0.153707</td>\n",
       "      <td>1</td>\n",
       "    </tr>\n",
       "    <tr>\n",
       "      <th>3164</th>\n",
       "      <td>0.116221</td>\n",
       "      <td>0.188980</td>\n",
       "      <td>0.076758</td>\n",
       "      <td>1</td>\n",
       "    </tr>\n",
       "    <tr>\n",
       "      <th>3165</th>\n",
       "      <td>0.142056</td>\n",
       "      <td>0.209918</td>\n",
       "      <td>0.183731</td>\n",
       "      <td>1</td>\n",
       "    </tr>\n",
       "    <tr>\n",
       "      <th>3166</th>\n",
       "      <td>0.143659</td>\n",
       "      <td>0.172375</td>\n",
       "      <td>0.184976</td>\n",
       "      <td>1</td>\n",
       "    </tr>\n",
       "    <tr>\n",
       "      <th>3167</th>\n",
       "      <td>0.165509</td>\n",
       "      <td>0.185607</td>\n",
       "      <td>0.183044</td>\n",
       "      <td>1</td>\n",
       "    </tr>\n",
       "  </tbody>\n",
       "</table>\n",
       "<p>3168 rows × 4 columns</p>\n",
       "</div>"
      ],
      "text/plain": [
       "      meanfreq   meanfun    median  label\n",
       "0     0.059781  0.084279  0.032027      0\n",
       "1     0.066009  0.107937  0.040229      0\n",
       "2     0.077316  0.098706  0.036718      0\n",
       "3     0.151228  0.088965  0.158011      0\n",
       "4     0.135120  0.106398  0.124656      0\n",
       "...        ...       ...       ...    ...\n",
       "3163  0.131884  0.182790  0.153707      1\n",
       "3164  0.116221  0.188980  0.076758      1\n",
       "3165  0.142056  0.209918  0.183731      1\n",
       "3166  0.143659  0.172375  0.184976      1\n",
       "3167  0.165509  0.185607  0.183044      1\n",
       "\n",
       "[3168 rows x 4 columns]"
      ]
     },
     "execution_count": 2,
     "metadata": {},
     "output_type": "execute_result"
    }
   ],
   "source": [
    "# Daten einlesen in pd\n",
    "\n",
    "data = pd.read_csv(\"voice-1636985774.csv\")\n",
    "data.head()\n",
    "# Selektieren der Spalten\n",
    "data = data[[\"meanfreq\", \"meanfun\", \"median\", \"label\"]]\n",
    "\n",
    "# Datawrangling mit der Spalte label\n",
    "data[\"label\"] = data[\"label\"].map({\"male\":0, \"female\":1})\n",
    "data"
   ]
  },
  {
   "cell_type": "code",
   "execution_count": 3,
   "id": "9d029860",
   "metadata": {},
   "outputs": [],
   "source": [
    "# x und y werte definieren\n",
    "x_meanfreq = data[\"meanfreq\"].values.reshape(-1,1)\n",
    "x_meanfun = data[\"meanfun\"].values.reshape(-1,1)\n",
    "x_median = data[\"median\"].values.reshape(-1,1)\n",
    "\n",
    "y = data[\"label\"].values"
   ]
  },
  {
   "cell_type": "code",
   "execution_count": 4,
   "id": "b0051879",
   "metadata": {},
   "outputs": [
    {
     "data": {
      "image/png": "[encoded data removed]",
      "text/plain": [
       "<Figure size 432x288 with 1 Axes>"
      ]
     },
     "metadata": {
      "needs_background": "light"
     },
     "output_type": "display_data"
    },
    {
     "data": {
      "image/png": "[encoded data removed]",
      "text/plain": [
       "<Figure size 432x288 with 1 Axes>"
      ]
     },
     "metadata": {
      "needs_background": "light"
     },
     "output_type": "display_data"
    },
    {
     "data": {
      "image/png": "[encoded data removed]",
      "text/plain": [
       "<Figure size 432x288 with 1 Axes>"
      ]
     },
     "metadata": {
      "needs_background": "light"
     },
     "output_type": "display_data"
    }
   ],
   "source": [
    "# Scatterplot erstellen\n",
    "plt.scatter(x_meanfreq, y )\n",
    "plt.title(\"meanfreq vs label\")\n",
    "plt.show()\n",
    "\n",
    "plt.scatter(x_meanfun, y)\n",
    "plt.title(\"meanfun vs label\")\n",
    "plt.show()\n",
    "\n",
    "plt.scatter(x_median, y)\n",
    "plt.title(\"median vs label\")\n",
    "plt.show()"
   ]
  },
  {
   "cell_type": "code",
   "execution_count": 10,
   "id": "0f53f953",
   "metadata": {},
   "outputs": [
    {
     "data": {
      "text/plain": [
       "array([1, 0, 1, ..., 1, 1, 1], dtype=int64)"
      ]
     },
     "execution_count": 10,
     "metadata": {},
     "output_type": "execute_result"
    }
   ],
   "source": [
    "# train test daten erstellen\n",
    "train, test = train_test_split(data, test_size = 0.2)\n",
    "\n",
    "x_meanfun_train = train[\"meanfun\"].values.reshape(-1,1)\n",
    "y_meanfun_train = train[\"label\"].values\n",
    "\n",
    "x_meanfun_test = test[\"meanfun\"].values.reshape(-1,1)\n",
    "y_meanfun_test = test[\"label\"].values\n",
    "y_meanfun_train"
   ]
  },
  {
   "cell_type": "code",
   "execution_count": 6,
   "id": "85abb5c9",
   "metadata": {},
   "outputs": [],
   "source": [
    "# Model mit trainignsdaten erstellen\n",
    "model_meanfun = LogisticRegression().fit(x_meanfun_train, y_meanfun_train)"
   ]
  },
  {
   "cell_type": "code",
   "execution_count": 7,
   "id": "e6f03251",
   "metadata": {},
   "outputs": [
    {
     "data": {
      "image/png": "[encoded data removed]",
      "text/plain": [
       "<Figure size 432x288 with 1 Axes>"
      ]
     },
     "metadata": {
      "needs_background": "light"
     },
     "output_type": "display_data"
    }
   ],
   "source": [
    "# x_values, und y_values genereiren fuer plot\n",
    "x_values = np.linspace(0, 0.3, 100).reshape(-1,1)\n",
    "y_values = model_meanfun.predict_proba(x_values)[:,1]\n",
    "\n",
    "# plotten\n",
    "plt.scatter(x_meanfun, y)\n",
    "plt.plot(x_values, y_values, color = \"r\")\n",
    "plt.show()"
   ]
  },
  {
   "cell_type": "code",
   "execution_count": 8,
   "id": "4a9790c7",
   "metadata": {},
   "outputs": [
    {
     "data": {
      "image/png": "[encoded data removed]",
      "text/plain": [
       "<Figure size 432x288 with 1 Axes>"
      ]
     },
     "metadata": {
      "needs_background": "light"
     },
     "output_type": "display_data"
    }
   ],
   "source": [
    "# Alternativ statt predict_proba, mit der Logistischen Funktion\n",
    "alpha = model_meanfun.coef_\n",
    "beta = model_meanfun.intercept_\n",
    "x_values2 = np.linspace(-0.1,0.5,100).reshape(-1,1)\n",
    "y_values2 = (np.exp(alpha*x_values2+beta)) / (1 + (np.exp(alpha*x_values2+beta)))\n",
    "\n",
    "# plotten\n",
    "plt.scatter(x_meanfun, y)\n",
    "plt.plot(x_values, y_values, color = \"fuchsia\") # zum testen, ob y_values = y_values2\n",
    "plt.plot(x_values2, y_values2, color = \"grey\")\n",
    "plt.show()"
   ]
  },
  {
   "cell_type": "code",
   "execution_count": 9,
   "id": "144b2b91",
   "metadata": {},
   "outputs": [
    {
     "name": "stdout",
     "output_type": "stream",
     "text": [
      "[[302  11]\n",
      " [ 26 295]]\n",
      "0.9416403785488959\n",
      "0.9416403785488959\n"
     ]
    }
   ],
   "source": [
    "# Confusion Matrix erstellen\n",
    "\n",
    "y_test_predict = model_meanfun.predict(x_meanfun_test)\n",
    "conf_matrix = metrics.confusion_matrix(y_meanfun_test, y_test_predict)\n",
    "\n",
    "print(conf_matrix)\n",
    "\n",
    "# Auswertung der Conf Matrix\n",
    "\n",
    "score_conf_M = (conf_matrix[0][0] + conf_matrix[1][1]) / np.sum(conf_matrix)\n",
    "print(score_conf_M)\n",
    "\n",
    "score = model_meanfun.score(x_meanfun_test, y_meanfun_test)\n",
    "print(score)"
   ]
  },
  {
   "cell_type": "code",
   "execution_count": null,
   "id": "1f17f4a0",
   "metadata": {},
   "outputs": [],
   "source": []
  },
  {
   "cell_type": "code",
   "execution_count": null,
   "id": "89f3ae80",
   "metadata": {},
   "outputs": [],
   "source": []
  }
 ],
 "metadata": {
  "kernelspec": {
   "display_name": "Python 3 (ipykernel)",
   "language": "python",
   "name": "python3"
  },
  "language_info": {
   "codemirror_mode": {
    "name": "ipython",
    "version": 3
   },
   "file_extension": ".py",
   "mimetype": "text/x-python",
   "name": "python",
   "nbconvert_exporter": "python",
   "pygments_lexer": "ipython3",
   "version": "3.9.7"
  }
 },
 "nbformat": 4,
 "nbformat_minor": 5
}
