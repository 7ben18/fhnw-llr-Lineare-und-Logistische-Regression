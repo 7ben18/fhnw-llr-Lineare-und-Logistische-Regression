{
 "cells": [
  {
   "cell_type": "code",
   "execution_count": 2,
   "id": "9f412d69",
   "metadata": {},
   "outputs": [],
   "source": [
    " # libraries pandas, matplotlib und numpy\n",
    "import pandas as pd\n",
    "import matplotlib.pyplot as plt\n",
    "import numpy as np\n",
    "from sklearn.model_selection import train_test_split\n",
    "\n",
    "# Daten einlesen\n",
    "data = pd.read_csv(\"voice-1636985774.csv\")"
   ]
  },
  {
   "cell_type": "markdown",
   "id": "69ceef6d",
   "metadata": {},
   "source": [
    "Aufgabe a"
   ]
  },
  {
   "cell_type": "code",
   "execution_count": 3,
   "id": "ec281934",
   "metadata": {},
   "outputs": [
    {
     "data": {
      "text/html": [
       "<div>\n",
       "<style scoped>\n",
       "    .dataframe tbody tr th:only-of-type {\n",
       "        vertical-align: middle;\n",
       "    }\n",
       "\n",
       "    .dataframe tbody tr th {\n",
       "        vertical-align: top;\n",
       "    }\n",
       "\n",
       "    .dataframe thead th {\n",
       "        text-align: right;\n",
       "    }\n",
       "</style>\n",
       "<table border=\"1\" class=\"dataframe\">\n",
       "  <thead>\n",
       "    <tr style=\"text-align: right;\">\n",
       "      <th></th>\n",
       "      <th>meanfreq</th>\n",
       "      <th>median</th>\n",
       "      <th>meanfun</th>\n",
       "      <th>label</th>\n",
       "    </tr>\n",
       "  </thead>\n",
       "  <tbody>\n",
       "    <tr>\n",
       "      <th>0</th>\n",
       "      <td>0.059781</td>\n",
       "      <td>0.032027</td>\n",
       "      <td>0.084279</td>\n",
       "      <td>male</td>\n",
       "    </tr>\n",
       "    <tr>\n",
       "      <th>1</th>\n",
       "      <td>0.066009</td>\n",
       "      <td>0.040229</td>\n",
       "      <td>0.107937</td>\n",
       "      <td>male</td>\n",
       "    </tr>\n",
       "    <tr>\n",
       "      <th>2</th>\n",
       "      <td>0.077316</td>\n",
       "      <td>0.036718</td>\n",
       "      <td>0.098706</td>\n",
       "      <td>male</td>\n",
       "    </tr>\n",
       "    <tr>\n",
       "      <th>3</th>\n",
       "      <td>0.151228</td>\n",
       "      <td>0.158011</td>\n",
       "      <td>0.088965</td>\n",
       "      <td>male</td>\n",
       "    </tr>\n",
       "    <tr>\n",
       "      <th>4</th>\n",
       "      <td>0.135120</td>\n",
       "      <td>0.124656</td>\n",
       "      <td>0.106398</td>\n",
       "      <td>male</td>\n",
       "    </tr>\n",
       "  </tbody>\n",
       "</table>\n",
       "</div>"
      ],
      "text/plain": [
       "   meanfreq    median   meanfun label\n",
       "0  0.059781  0.032027  0.084279  male\n",
       "1  0.066009  0.040229  0.107937  male\n",
       "2  0.077316  0.036718  0.098706  male\n",
       "3  0.151228  0.158011  0.088965  male\n",
       "4  0.135120  0.124656  0.106398  male"
      ]
     },
     "execution_count": 3,
     "metadata": {},
     "output_type": "execute_result"
    }
   ],
   "source": [
    "data_short = data[[\"meanfreq\",\"median\",\"meanfun\",\"label\"]]\n",
    "data_short.head()"
   ]
  },
  {
   "cell_type": "code",
   "execution_count": 5,
   "id": "df707adb",
   "metadata": {},
   "outputs": [
    {
     "data": {
      "text/html": [
       "<div>\n",
       "<style scoped>\n",
       "    .dataframe tbody tr th:only-of-type {\n",
       "        vertical-align: middle;\n",
       "    }\n",
       "\n",
       "    .dataframe tbody tr th {\n",
       "        vertical-align: top;\n",
       "    }\n",
       "\n",
       "    .dataframe thead th {\n",
       "        text-align: right;\n",
       "    }\n",
       "</style>\n",
       "<table border=\"1\" class=\"dataframe\">\n",
       "  <thead>\n",
       "    <tr style=\"text-align: right;\">\n",
       "      <th></th>\n",
       "      <th>meanfreq</th>\n",
       "      <th>median</th>\n",
       "      <th>meanfun</th>\n",
       "      <th>label_female</th>\n",
       "      <th>label_male</th>\n",
       "    </tr>\n",
       "  </thead>\n",
       "  <tbody>\n",
       "    <tr>\n",
       "      <th>0</th>\n",
       "      <td>0.059781</td>\n",
       "      <td>0.032027</td>\n",
       "      <td>0.084279</td>\n",
       "      <td>0</td>\n",
       "      <td>1</td>\n",
       "    </tr>\n",
       "    <tr>\n",
       "      <th>1</th>\n",
       "      <td>0.066009</td>\n",
       "      <td>0.040229</td>\n",
       "      <td>0.107937</td>\n",
       "      <td>0</td>\n",
       "      <td>1</td>\n",
       "    </tr>\n",
       "    <tr>\n",
       "      <th>2</th>\n",
       "      <td>0.077316</td>\n",
       "      <td>0.036718</td>\n",
       "      <td>0.098706</td>\n",
       "      <td>0</td>\n",
       "      <td>1</td>\n",
       "    </tr>\n",
       "    <tr>\n",
       "      <th>3</th>\n",
       "      <td>0.151228</td>\n",
       "      <td>0.158011</td>\n",
       "      <td>0.088965</td>\n",
       "      <td>0</td>\n",
       "      <td>1</td>\n",
       "    </tr>\n",
       "    <tr>\n",
       "      <th>4</th>\n",
       "      <td>0.135120</td>\n",
       "      <td>0.124656</td>\n",
       "      <td>0.106398</td>\n",
       "      <td>0</td>\n",
       "      <td>1</td>\n",
       "    </tr>\n",
       "    <tr>\n",
       "      <th>...</th>\n",
       "      <td>...</td>\n",
       "      <td>...</td>\n",
       "      <td>...</td>\n",
       "      <td>...</td>\n",
       "      <td>...</td>\n",
       "    </tr>\n",
       "    <tr>\n",
       "      <th>3163</th>\n",
       "      <td>0.131884</td>\n",
       "      <td>0.153707</td>\n",
       "      <td>0.182790</td>\n",
       "      <td>1</td>\n",
       "      <td>0</td>\n",
       "    </tr>\n",
       "    <tr>\n",
       "      <th>3164</th>\n",
       "      <td>0.116221</td>\n",
       "      <td>0.076758</td>\n",
       "      <td>0.188980</td>\n",
       "      <td>1</td>\n",
       "      <td>0</td>\n",
       "    </tr>\n",
       "    <tr>\n",
       "      <th>3165</th>\n",
       "      <td>0.142056</td>\n",
       "      <td>0.183731</td>\n",
       "      <td>0.209918</td>\n",
       "      <td>1</td>\n",
       "      <td>0</td>\n",
       "    </tr>\n",
       "    <tr>\n",
       "      <th>3166</th>\n",
       "      <td>0.143659</td>\n",
       "      <td>0.184976</td>\n",
       "      <td>0.172375</td>\n",
       "      <td>1</td>\n",
       "      <td>0</td>\n",
       "    </tr>\n",
       "    <tr>\n",
       "      <th>3167</th>\n",
       "      <td>0.165509</td>\n",
       "      <td>0.183044</td>\n",
       "      <td>0.185607</td>\n",
       "      <td>1</td>\n",
       "      <td>0</td>\n",
       "    </tr>\n",
       "  </tbody>\n",
       "</table>\n",
       "<p>3168 rows × 5 columns</p>\n",
       "</div>"
      ],
      "text/plain": [
       "      meanfreq    median   meanfun  label_female  label_male\n",
       "0     0.059781  0.032027  0.084279             0           1\n",
       "1     0.066009  0.040229  0.107937             0           1\n",
       "2     0.077316  0.036718  0.098706             0           1\n",
       "3     0.151228  0.158011  0.088965             0           1\n",
       "4     0.135120  0.124656  0.106398             0           1\n",
       "...        ...       ...       ...           ...         ...\n",
       "3163  0.131884  0.153707  0.182790             1           0\n",
       "3164  0.116221  0.076758  0.188980             1           0\n",
       "3165  0.142056  0.183731  0.209918             1           0\n",
       "3166  0.143659  0.184976  0.172375             1           0\n",
       "3167  0.165509  0.183044  0.185607             1           0\n",
       "\n",
       "[3168 rows x 5 columns]"
      ]
     },
     "execution_count": 5,
     "metadata": {},
     "output_type": "execute_result"
    }
   ],
   "source": [
    "data_clean = pd.get_dummies(data_short,columns =[\"label\"])\n",
    "data_clean"
   ]
  },
  {
   "cell_type": "code",
   "execution_count": 29,
   "id": "e0bfc952",
   "metadata": {},
   "outputs": [],
   "source": [
    "x_meanfreq = data_clean[\"meanfreq\"].values.reshape(-1,1)\n",
    "x_median = data_clean[\"median\"].values.reshape(-1,1)\n",
    "x_meanfun = data_clean[\"meanfun\"].values.reshape(-1,1)\n",
    "y = data_clean[\"label_female\"].values"
   ]
  },
  {
   "cell_type": "code",
   "execution_count": 7,
   "id": "a8faa6a7",
   "metadata": {},
   "outputs": [
    {
     "data": {
      "image/png": "[encoded data removed]",
      "text/plain": [
       "<Figure size 432x288 with 1 Axes>"
      ]
     },
     "metadata": {
      "needs_background": "light"
     },
     "output_type": "display_data"
    }
   ],
   "source": [
    "plt.scatter(x_meanfreq,y)\n",
    "plt.show()"
   ]
  },
  {
   "cell_type": "code",
   "execution_count": 8,
   "id": "2541489d",
   "metadata": {},
   "outputs": [
    {
     "data": {
      "image/png": "[encoded data removed]",
      "text/plain": [
       "<Figure size 432x288 with 1 Axes>"
      ]
     },
     "metadata": {
      "needs_background": "light"
     },
     "output_type": "display_data"
    }
   ],
   "source": [
    "plt.scatter(x_median,y)\n",
    "plt.show()"
   ]
  },
  {
   "cell_type": "code",
   "execution_count": 9,
   "id": "3cb5ac2c",
   "metadata": {},
   "outputs": [
    {
     "data": {
      "image/png": "[encoded data removed]",
      "text/plain": [
       "<Figure size 432x288 with 1 Axes>"
      ]
     },
     "metadata": {
      "needs_background": "light"
     },
     "output_type": "display_data"
    }
   ],
   "source": [
    "plt.scatter(x_meanfun,y)\n",
    "plt.show()\n",
    "#Sieht am besten aus"
   ]
  },
  {
   "cell_type": "code",
   "execution_count": 11,
   "id": "0688a2b7",
   "metadata": {},
   "outputs": [],
   "source": [
    "from sklearn.linear_model import LogisticRegression\n",
    "from sklearn import metrics\n",
    "#import seaborn as sn\n"
   ]
  },
  {
   "cell_type": "code",
   "execution_count": 31,
   "id": "5937c149",
   "metadata": {},
   "outputs": [
    {
     "data": {
      "text/plain": [
       "array([1, 1, 0, ..., 0, 1, 1], dtype=uint8)"
      ]
     },
     "execution_count": 31,
     "metadata": {},
     "output_type": "execute_result"
    }
   ],
   "source": [
    "X_train, X_test, y_train, y_test = train_test_split(x_meanfun, y, test_size = 0.2)\n",
    "y_train"
   ]
  },
  {
   "cell_type": "code",
   "execution_count": 32,
   "id": "47ab2a52",
   "metadata": {},
   "outputs": [],
   "source": [
    "logreg = LogisticRegression()"
   ]
  },
  {
   "cell_type": "code",
   "execution_count": 33,
   "id": "a54f2da0",
   "metadata": {},
   "outputs": [],
   "source": [
    "model = logreg.fit(X_train,y_train)"
   ]
  },
  {
   "cell_type": "code",
   "execution_count": null,
   "id": "4cc8f599",
   "metadata": {},
   "outputs": [],
   "source": []
  },
  {
   "cell_type": "code",
   "execution_count": 105,
   "id": "83c3806b",
   "metadata": {},
   "outputs": [
    {
     "data": {
      "text/plain": [
       "(2534, 1)"
      ]
     },
     "execution_count": 105,
     "metadata": {},
     "output_type": "execute_result"
    }
   ],
   "source": [
    "y_train.shape"
   ]
  },
  {
   "cell_type": "code",
   "execution_count": null,
   "id": "bac22412",
   "metadata": {},
   "outputs": [],
   "source": []
  }
 ],
 "metadata": {
  "kernelspec": {
   "display_name": "Python 3 (ipykernel)",
   "language": "python",
   "name": "python3"
  },
  "language_info": {
   "codemirror_mode": {
    "name": "ipython",
    "version": 3
   },
   "file_extension": ".py",
   "mimetype": "text/x-python",
   "name": "python",
   "nbconvert_exporter": "python",
   "pygments_lexer": "ipython3",
   "version": "3.9.7"
  }
 },
 "nbformat": 4,
 "nbformat_minor": 5
}
